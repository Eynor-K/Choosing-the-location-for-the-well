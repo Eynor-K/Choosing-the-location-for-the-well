{
 "cells": [
  {
   "cell_type": "markdown",
   "metadata": {
    "id": "IT48h_vOdLCr"
   },
   "source": [
    "# Машинное обучение в бизнесе"
   ]
  },
  {
   "cell_type": "markdown",
   "metadata": {
    "id": "Epvi8dYhdH3D"
   },
   "source": [
    "**Цели проекта:**\n",
    "1. Построить модель, которая сможет предсказать уровень удовлетворённости сотрудника на основе данных заказчика;\n",
    "2. Построить модель, которая сможет на основе данных заказчика предсказать то, что сотрудник уволится из компании."
   ]
  },
  {
   "cell_type": "markdown",
   "metadata": {
    "id": "SQpIxYPtdatC"
   },
   "source": [
    "**Описание данных**\n",
    "\n",
    "Данные геологоразведки трёх регионов:\n",
    "\n",
    "- _id_ — уникальный идентификатор скважины;\n",
    "- _f0, f1, f2_ — три признака точек (неважно, что они означают, но сами признаки значимы);\n",
    "- _product_ — объём запасов в скважине (тыс. баррелей)."
   ]
  },
  {
   "cell_type": "markdown",
   "metadata": {
    "id": "YKwhbOPjdkqg"
   },
   "source": [
    "**План проекта:**\n",
    "1. Загрузка данных\n",
    "2. Обучение модели\n",
    "3. Подготовка данных\n",
    "4. Расчёт прибыли по выбранным скважинам и предсказаниям модели\n",
    "5. Риски и прибыль для каждого региона\n",
    "6. Общие выводы"
   ]
  },
  {
   "cell_type": "code",
   "execution_count": 1,
   "metadata": {
    "id": "PnFnw-84dj7K"
   },
   "outputs": [],
   "source": [
    "# импорт бибилеотек\n",
    "\n",
    "import pandas as pd\n",
    "from sklearn.model_selection import train_test_split\n",
    "from sklearn.linear_model import LinearRegression\n",
    "from sklearn.preprocessing import StandardScaler\n",
    "from sklearn.metrics import accuracy_score\n",
    "from scipy import stats as st\n",
    "import numpy as np\n",
    "from sklearn.metrics import mean_squared_error, r2_score\n",
    "from tqdm.notebook import tqdm\n",
    "import matplotlib.pyplot as plt\n",
    "import seaborn as sns\n",
    "from sklearn.utils import shuffle\n",
    "from sklearn.preprocessing import OrdinalEncoder\n",
    "\n",
    "RANDOM_STATE = 42\n",
    "TEST_SIZE = 0.25"
   ]
  },
  {
   "cell_type": "markdown",
   "metadata": {
    "id": "4VEfjhG-eg8d"
   },
   "source": [
    "## Загрузка данных"
   ]
  },
  {
   "cell_type": "code",
   "execution_count": 2,
   "metadata": {
    "id": "3ZayXGumeji8"
   },
   "outputs": [],
   "source": [
    "# чтение данных\n",
    "try:\n",
    "    geo_data_0 = pd.read_csv('/content/drive/MyDrive/Colab Notebooks/Yandex/Choosing the location for the well/geo_data_0.csv')\n",
    "    geo_data_1 = pd.read_csv('/content/drive/MyDrive/Colab Notebooks/Yandex/Choosing the location for the well/geo_data_1.csv')\n",
    "    geo_data_2 = pd.read_csv('/content/drive/MyDrive/Colab Notebooks/Yandex/Choosing the location for the well/geo_data_2.csv')\n",
    "except:\n",
    "    geo_data_0 = pd.read_csv('/datasets/geo_data_0.csv')\n",
    "    geo_data_1 = pd.read_csv('/datasets/geo_data_1.csv')\n",
    "    geo_data_2 = pd.read_csv('/datasets/geo_data_2.csv')"
   ]
  },
  {
   "cell_type": "code",
   "execution_count": 3,
   "metadata": {
    "colab": {
     "base_uri": "https://localhost:8080/",
     "height": 698
    },
    "id": "bZ2K7gKTqf0W",
    "outputId": "f19a5067-f26f-4223-fdd2-6e6a7e4f50e0"
   },
   "outputs": [
    {
     "name": "stdout",
     "output_type": "stream",
     "text": [
      "<class 'pandas.core.frame.DataFrame'>\n",
      "RangeIndex: 100000 entries, 0 to 99999\n",
      "Data columns (total 5 columns):\n",
      " #   Column   Non-Null Count   Dtype  \n",
      "---  ------   --------------   -----  \n",
      " 0   id       100000 non-null  object \n",
      " 1   f0       100000 non-null  float64\n",
      " 2   f1       100000 non-null  float64\n",
      " 3   f2       100000 non-null  float64\n",
      " 4   product  100000 non-null  float64\n",
      "dtypes: float64(4), object(1)\n",
      "memory usage: 3.8+ MB\n"
     ]
    },
    {
     "data": {
      "text/html": [
       "<div>\n",
       "<style scoped>\n",
       "    .dataframe tbody tr th:only-of-type {\n",
       "        vertical-align: middle;\n",
       "    }\n",
       "\n",
       "    .dataframe tbody tr th {\n",
       "        vertical-align: top;\n",
       "    }\n",
       "\n",
       "    .dataframe thead th {\n",
       "        text-align: right;\n",
       "    }\n",
       "</style>\n",
       "<table border=\"1\" class=\"dataframe\">\n",
       "  <thead>\n",
       "    <tr style=\"text-align: right;\">\n",
       "      <th></th>\n",
       "      <th>id</th>\n",
       "      <th>f0</th>\n",
       "      <th>f1</th>\n",
       "      <th>f2</th>\n",
       "      <th>product</th>\n",
       "    </tr>\n",
       "  </thead>\n",
       "  <tbody>\n",
       "    <tr>\n",
       "      <th>0</th>\n",
       "      <td>txEyH</td>\n",
       "      <td>0.705745</td>\n",
       "      <td>-0.497823</td>\n",
       "      <td>1.221170</td>\n",
       "      <td>105.280062</td>\n",
       "    </tr>\n",
       "    <tr>\n",
       "      <th>1</th>\n",
       "      <td>2acmU</td>\n",
       "      <td>1.334711</td>\n",
       "      <td>-0.340164</td>\n",
       "      <td>4.365080</td>\n",
       "      <td>73.037750</td>\n",
       "    </tr>\n",
       "    <tr>\n",
       "      <th>2</th>\n",
       "      <td>409Wp</td>\n",
       "      <td>1.022732</td>\n",
       "      <td>0.151990</td>\n",
       "      <td>1.419926</td>\n",
       "      <td>85.265647</td>\n",
       "    </tr>\n",
       "    <tr>\n",
       "      <th>3</th>\n",
       "      <td>iJLyR</td>\n",
       "      <td>-0.032172</td>\n",
       "      <td>0.139033</td>\n",
       "      <td>2.978566</td>\n",
       "      <td>168.620776</td>\n",
       "    </tr>\n",
       "    <tr>\n",
       "      <th>4</th>\n",
       "      <td>Xdl7t</td>\n",
       "      <td>1.988431</td>\n",
       "      <td>0.155413</td>\n",
       "      <td>4.751769</td>\n",
       "      <td>154.036647</td>\n",
       "    </tr>\n",
       "  </tbody>\n",
       "</table>\n",
       "</div>"
      ],
      "text/plain": [
       "      id        f0        f1        f2     product\n",
       "0  txEyH  0.705745 -0.497823  1.221170  105.280062\n",
       "1  2acmU  1.334711 -0.340164  4.365080   73.037750\n",
       "2  409Wp  1.022732  0.151990  1.419926   85.265647\n",
       "3  iJLyR -0.032172  0.139033  2.978566  168.620776\n",
       "4  Xdl7t  1.988431  0.155413  4.751769  154.036647"
      ]
     },
     "metadata": {},
     "output_type": "display_data"
    },
    {
     "data": {
      "text/html": [
       "<div>\n",
       "<style scoped>\n",
       "    .dataframe tbody tr th:only-of-type {\n",
       "        vertical-align: middle;\n",
       "    }\n",
       "\n",
       "    .dataframe tbody tr th {\n",
       "        vertical-align: top;\n",
       "    }\n",
       "\n",
       "    .dataframe thead th {\n",
       "        text-align: right;\n",
       "    }\n",
       "</style>\n",
       "<table border=\"1\" class=\"dataframe\">\n",
       "  <thead>\n",
       "    <tr style=\"text-align: right;\">\n",
       "      <th></th>\n",
       "      <th>f0</th>\n",
       "      <th>f1</th>\n",
       "      <th>f2</th>\n",
       "      <th>product</th>\n",
       "    </tr>\n",
       "  </thead>\n",
       "  <tbody>\n",
       "    <tr>\n",
       "      <th>count</th>\n",
       "      <td>100000.000000</td>\n",
       "      <td>100000.000000</td>\n",
       "      <td>100000.000000</td>\n",
       "      <td>100000.000000</td>\n",
       "    </tr>\n",
       "    <tr>\n",
       "      <th>mean</th>\n",
       "      <td>0.500419</td>\n",
       "      <td>0.250143</td>\n",
       "      <td>2.502647</td>\n",
       "      <td>92.500000</td>\n",
       "    </tr>\n",
       "    <tr>\n",
       "      <th>std</th>\n",
       "      <td>0.871832</td>\n",
       "      <td>0.504433</td>\n",
       "      <td>3.248248</td>\n",
       "      <td>44.288691</td>\n",
       "    </tr>\n",
       "    <tr>\n",
       "      <th>min</th>\n",
       "      <td>-1.408605</td>\n",
       "      <td>-0.848218</td>\n",
       "      <td>-12.088328</td>\n",
       "      <td>0.000000</td>\n",
       "    </tr>\n",
       "    <tr>\n",
       "      <th>25%</th>\n",
       "      <td>-0.072580</td>\n",
       "      <td>-0.200881</td>\n",
       "      <td>0.287748</td>\n",
       "      <td>56.497507</td>\n",
       "    </tr>\n",
       "    <tr>\n",
       "      <th>50%</th>\n",
       "      <td>0.502360</td>\n",
       "      <td>0.250252</td>\n",
       "      <td>2.515969</td>\n",
       "      <td>91.849972</td>\n",
       "    </tr>\n",
       "    <tr>\n",
       "      <th>75%</th>\n",
       "      <td>1.073581</td>\n",
       "      <td>0.700646</td>\n",
       "      <td>4.715088</td>\n",
       "      <td>128.564089</td>\n",
       "    </tr>\n",
       "    <tr>\n",
       "      <th>max</th>\n",
       "      <td>2.362331</td>\n",
       "      <td>1.343769</td>\n",
       "      <td>16.003790</td>\n",
       "      <td>185.364347</td>\n",
       "    </tr>\n",
       "  </tbody>\n",
       "</table>\n",
       "</div>"
      ],
      "text/plain": [
       "                  f0             f1             f2        product\n",
       "count  100000.000000  100000.000000  100000.000000  100000.000000\n",
       "mean        0.500419       0.250143       2.502647      92.500000\n",
       "std         0.871832       0.504433       3.248248      44.288691\n",
       "min        -1.408605      -0.848218     -12.088328       0.000000\n",
       "25%        -0.072580      -0.200881       0.287748      56.497507\n",
       "50%         0.502360       0.250252       2.515969      91.849972\n",
       "75%         1.073581       0.700646       4.715088     128.564089\n",
       "max         2.362331       1.343769      16.003790     185.364347"
      ]
     },
     "execution_count": 3,
     "metadata": {},
     "output_type": "execute_result"
    }
   ],
   "source": [
    "# изучение geo_data_0\n",
    "geo_data_0.info()\n",
    "display(geo_data_0.head())\n",
    "geo_data_0.describe()"
   ]
  },
  {
   "cell_type": "code",
   "execution_count": 4,
   "metadata": {
    "colab": {
     "base_uri": "https://localhost:8080/",
     "height": 698
    },
    "id": "ysZWDq0YDzlF",
    "outputId": "8d1dc6cf-bc4d-49a5-f8c7-fa4c8ad785bd"
   },
   "outputs": [
    {
     "name": "stdout",
     "output_type": "stream",
     "text": [
      "<class 'pandas.core.frame.DataFrame'>\n",
      "RangeIndex: 100000 entries, 0 to 99999\n",
      "Data columns (total 5 columns):\n",
      " #   Column   Non-Null Count   Dtype  \n",
      "---  ------   --------------   -----  \n",
      " 0   id       100000 non-null  object \n",
      " 1   f0       100000 non-null  float64\n",
      " 2   f1       100000 non-null  float64\n",
      " 3   f2       100000 non-null  float64\n",
      " 4   product  100000 non-null  float64\n",
      "dtypes: float64(4), object(1)\n",
      "memory usage: 3.8+ MB\n"
     ]
    },
    {
     "data": {
      "text/html": [
       "<div>\n",
       "<style scoped>\n",
       "    .dataframe tbody tr th:only-of-type {\n",
       "        vertical-align: middle;\n",
       "    }\n",
       "\n",
       "    .dataframe tbody tr th {\n",
       "        vertical-align: top;\n",
       "    }\n",
       "\n",
       "    .dataframe thead th {\n",
       "        text-align: right;\n",
       "    }\n",
       "</style>\n",
       "<table border=\"1\" class=\"dataframe\">\n",
       "  <thead>\n",
       "    <tr style=\"text-align: right;\">\n",
       "      <th></th>\n",
       "      <th>id</th>\n",
       "      <th>f0</th>\n",
       "      <th>f1</th>\n",
       "      <th>f2</th>\n",
       "      <th>product</th>\n",
       "    </tr>\n",
       "  </thead>\n",
       "  <tbody>\n",
       "    <tr>\n",
       "      <th>0</th>\n",
       "      <td>kBEdx</td>\n",
       "      <td>-15.001348</td>\n",
       "      <td>-8.276000</td>\n",
       "      <td>-0.005876</td>\n",
       "      <td>3.179103</td>\n",
       "    </tr>\n",
       "    <tr>\n",
       "      <th>1</th>\n",
       "      <td>62mP7</td>\n",
       "      <td>14.272088</td>\n",
       "      <td>-3.475083</td>\n",
       "      <td>0.999183</td>\n",
       "      <td>26.953261</td>\n",
       "    </tr>\n",
       "    <tr>\n",
       "      <th>2</th>\n",
       "      <td>vyE1P</td>\n",
       "      <td>6.263187</td>\n",
       "      <td>-5.948386</td>\n",
       "      <td>5.001160</td>\n",
       "      <td>134.766305</td>\n",
       "    </tr>\n",
       "    <tr>\n",
       "      <th>3</th>\n",
       "      <td>KcrkZ</td>\n",
       "      <td>-13.081196</td>\n",
       "      <td>-11.506057</td>\n",
       "      <td>4.999415</td>\n",
       "      <td>137.945408</td>\n",
       "    </tr>\n",
       "    <tr>\n",
       "      <th>4</th>\n",
       "      <td>AHL4O</td>\n",
       "      <td>12.702195</td>\n",
       "      <td>-8.147433</td>\n",
       "      <td>5.004363</td>\n",
       "      <td>134.766305</td>\n",
       "    </tr>\n",
       "  </tbody>\n",
       "</table>\n",
       "</div>"
      ],
      "text/plain": [
       "      id         f0         f1        f2     product\n",
       "0  kBEdx -15.001348  -8.276000 -0.005876    3.179103\n",
       "1  62mP7  14.272088  -3.475083  0.999183   26.953261\n",
       "2  vyE1P   6.263187  -5.948386  5.001160  134.766305\n",
       "3  KcrkZ -13.081196 -11.506057  4.999415  137.945408\n",
       "4  AHL4O  12.702195  -8.147433  5.004363  134.766305"
      ]
     },
     "metadata": {},
     "output_type": "display_data"
    },
    {
     "data": {
      "text/html": [
       "<div>\n",
       "<style scoped>\n",
       "    .dataframe tbody tr th:only-of-type {\n",
       "        vertical-align: middle;\n",
       "    }\n",
       "\n",
       "    .dataframe tbody tr th {\n",
       "        vertical-align: top;\n",
       "    }\n",
       "\n",
       "    .dataframe thead th {\n",
       "        text-align: right;\n",
       "    }\n",
       "</style>\n",
       "<table border=\"1\" class=\"dataframe\">\n",
       "  <thead>\n",
       "    <tr style=\"text-align: right;\">\n",
       "      <th></th>\n",
       "      <th>f0</th>\n",
       "      <th>f1</th>\n",
       "      <th>f2</th>\n",
       "      <th>product</th>\n",
       "    </tr>\n",
       "  </thead>\n",
       "  <tbody>\n",
       "    <tr>\n",
       "      <th>count</th>\n",
       "      <td>100000.000000</td>\n",
       "      <td>100000.000000</td>\n",
       "      <td>100000.000000</td>\n",
       "      <td>100000.000000</td>\n",
       "    </tr>\n",
       "    <tr>\n",
       "      <th>mean</th>\n",
       "      <td>1.141296</td>\n",
       "      <td>-4.796579</td>\n",
       "      <td>2.494541</td>\n",
       "      <td>68.825000</td>\n",
       "    </tr>\n",
       "    <tr>\n",
       "      <th>std</th>\n",
       "      <td>8.965932</td>\n",
       "      <td>5.119872</td>\n",
       "      <td>1.703572</td>\n",
       "      <td>45.944423</td>\n",
       "    </tr>\n",
       "    <tr>\n",
       "      <th>min</th>\n",
       "      <td>-31.609576</td>\n",
       "      <td>-26.358598</td>\n",
       "      <td>-0.018144</td>\n",
       "      <td>0.000000</td>\n",
       "    </tr>\n",
       "    <tr>\n",
       "      <th>25%</th>\n",
       "      <td>-6.298551</td>\n",
       "      <td>-8.267985</td>\n",
       "      <td>1.000021</td>\n",
       "      <td>26.953261</td>\n",
       "    </tr>\n",
       "    <tr>\n",
       "      <th>50%</th>\n",
       "      <td>1.153055</td>\n",
       "      <td>-4.813172</td>\n",
       "      <td>2.011479</td>\n",
       "      <td>57.085625</td>\n",
       "    </tr>\n",
       "    <tr>\n",
       "      <th>75%</th>\n",
       "      <td>8.621015</td>\n",
       "      <td>-1.332816</td>\n",
       "      <td>3.999904</td>\n",
       "      <td>107.813044</td>\n",
       "    </tr>\n",
       "    <tr>\n",
       "      <th>max</th>\n",
       "      <td>29.421755</td>\n",
       "      <td>18.734063</td>\n",
       "      <td>5.019721</td>\n",
       "      <td>137.945408</td>\n",
       "    </tr>\n",
       "  </tbody>\n",
       "</table>\n",
       "</div>"
      ],
      "text/plain": [
       "                  f0             f1             f2        product\n",
       "count  100000.000000  100000.000000  100000.000000  100000.000000\n",
       "mean        1.141296      -4.796579       2.494541      68.825000\n",
       "std         8.965932       5.119872       1.703572      45.944423\n",
       "min       -31.609576     -26.358598      -0.018144       0.000000\n",
       "25%        -6.298551      -8.267985       1.000021      26.953261\n",
       "50%         1.153055      -4.813172       2.011479      57.085625\n",
       "75%         8.621015      -1.332816       3.999904     107.813044\n",
       "max        29.421755      18.734063       5.019721     137.945408"
      ]
     },
     "execution_count": 4,
     "metadata": {},
     "output_type": "execute_result"
    }
   ],
   "source": [
    "# изучение geo_data_1\n",
    "geo_data_1.info()\n",
    "display(geo_data_1.head())\n",
    "geo_data_1.describe()"
   ]
  },
  {
   "cell_type": "code",
   "execution_count": 5,
   "metadata": {
    "colab": {
     "base_uri": "https://localhost:8080/",
     "height": 698
    },
    "id": "VeVawL9nEruB",
    "outputId": "3d2c03a9-042a-4e28-ec6c-251cf5d73bf1"
   },
   "outputs": [
    {
     "name": "stdout",
     "output_type": "stream",
     "text": [
      "<class 'pandas.core.frame.DataFrame'>\n",
      "RangeIndex: 100000 entries, 0 to 99999\n",
      "Data columns (total 5 columns):\n",
      " #   Column   Non-Null Count   Dtype  \n",
      "---  ------   --------------   -----  \n",
      " 0   id       100000 non-null  object \n",
      " 1   f0       100000 non-null  float64\n",
      " 2   f1       100000 non-null  float64\n",
      " 3   f2       100000 non-null  float64\n",
      " 4   product  100000 non-null  float64\n",
      "dtypes: float64(4), object(1)\n",
      "memory usage: 3.8+ MB\n"
     ]
    },
    {
     "data": {
      "text/html": [
       "<div>\n",
       "<style scoped>\n",
       "    .dataframe tbody tr th:only-of-type {\n",
       "        vertical-align: middle;\n",
       "    }\n",
       "\n",
       "    .dataframe tbody tr th {\n",
       "        vertical-align: top;\n",
       "    }\n",
       "\n",
       "    .dataframe thead th {\n",
       "        text-align: right;\n",
       "    }\n",
       "</style>\n",
       "<table border=\"1\" class=\"dataframe\">\n",
       "  <thead>\n",
       "    <tr style=\"text-align: right;\">\n",
       "      <th></th>\n",
       "      <th>id</th>\n",
       "      <th>f0</th>\n",
       "      <th>f1</th>\n",
       "      <th>f2</th>\n",
       "      <th>product</th>\n",
       "    </tr>\n",
       "  </thead>\n",
       "  <tbody>\n",
       "    <tr>\n",
       "      <th>0</th>\n",
       "      <td>fwXo0</td>\n",
       "      <td>-1.146987</td>\n",
       "      <td>0.963328</td>\n",
       "      <td>-0.828965</td>\n",
       "      <td>27.758673</td>\n",
       "    </tr>\n",
       "    <tr>\n",
       "      <th>1</th>\n",
       "      <td>WJtFt</td>\n",
       "      <td>0.262778</td>\n",
       "      <td>0.269839</td>\n",
       "      <td>-2.530187</td>\n",
       "      <td>56.069697</td>\n",
       "    </tr>\n",
       "    <tr>\n",
       "      <th>2</th>\n",
       "      <td>ovLUW</td>\n",
       "      <td>0.194587</td>\n",
       "      <td>0.289035</td>\n",
       "      <td>-5.586433</td>\n",
       "      <td>62.871910</td>\n",
       "    </tr>\n",
       "    <tr>\n",
       "      <th>3</th>\n",
       "      <td>q6cA6</td>\n",
       "      <td>2.236060</td>\n",
       "      <td>-0.553760</td>\n",
       "      <td>0.930038</td>\n",
       "      <td>114.572842</td>\n",
       "    </tr>\n",
       "    <tr>\n",
       "      <th>4</th>\n",
       "      <td>WPMUX</td>\n",
       "      <td>-0.515993</td>\n",
       "      <td>1.716266</td>\n",
       "      <td>5.899011</td>\n",
       "      <td>149.600746</td>\n",
       "    </tr>\n",
       "  </tbody>\n",
       "</table>\n",
       "</div>"
      ],
      "text/plain": [
       "      id        f0        f1        f2     product\n",
       "0  fwXo0 -1.146987  0.963328 -0.828965   27.758673\n",
       "1  WJtFt  0.262778  0.269839 -2.530187   56.069697\n",
       "2  ovLUW  0.194587  0.289035 -5.586433   62.871910\n",
       "3  q6cA6  2.236060 -0.553760  0.930038  114.572842\n",
       "4  WPMUX -0.515993  1.716266  5.899011  149.600746"
      ]
     },
     "metadata": {},
     "output_type": "display_data"
    },
    {
     "data": {
      "text/html": [
       "<div>\n",
       "<style scoped>\n",
       "    .dataframe tbody tr th:only-of-type {\n",
       "        vertical-align: middle;\n",
       "    }\n",
       "\n",
       "    .dataframe tbody tr th {\n",
       "        vertical-align: top;\n",
       "    }\n",
       "\n",
       "    .dataframe thead th {\n",
       "        text-align: right;\n",
       "    }\n",
       "</style>\n",
       "<table border=\"1\" class=\"dataframe\">\n",
       "  <thead>\n",
       "    <tr style=\"text-align: right;\">\n",
       "      <th></th>\n",
       "      <th>f0</th>\n",
       "      <th>f1</th>\n",
       "      <th>f2</th>\n",
       "      <th>product</th>\n",
       "    </tr>\n",
       "  </thead>\n",
       "  <tbody>\n",
       "    <tr>\n",
       "      <th>count</th>\n",
       "      <td>100000.000000</td>\n",
       "      <td>100000.000000</td>\n",
       "      <td>100000.000000</td>\n",
       "      <td>100000.000000</td>\n",
       "    </tr>\n",
       "    <tr>\n",
       "      <th>mean</th>\n",
       "      <td>0.002023</td>\n",
       "      <td>-0.002081</td>\n",
       "      <td>2.495128</td>\n",
       "      <td>95.000000</td>\n",
       "    </tr>\n",
       "    <tr>\n",
       "      <th>std</th>\n",
       "      <td>1.732045</td>\n",
       "      <td>1.730417</td>\n",
       "      <td>3.473445</td>\n",
       "      <td>44.749921</td>\n",
       "    </tr>\n",
       "    <tr>\n",
       "      <th>min</th>\n",
       "      <td>-8.760004</td>\n",
       "      <td>-7.084020</td>\n",
       "      <td>-11.970335</td>\n",
       "      <td>0.000000</td>\n",
       "    </tr>\n",
       "    <tr>\n",
       "      <th>25%</th>\n",
       "      <td>-1.162288</td>\n",
       "      <td>-1.174820</td>\n",
       "      <td>0.130359</td>\n",
       "      <td>59.450441</td>\n",
       "    </tr>\n",
       "    <tr>\n",
       "      <th>50%</th>\n",
       "      <td>0.009424</td>\n",
       "      <td>-0.009482</td>\n",
       "      <td>2.484236</td>\n",
       "      <td>94.925613</td>\n",
       "    </tr>\n",
       "    <tr>\n",
       "      <th>75%</th>\n",
       "      <td>1.158535</td>\n",
       "      <td>1.163678</td>\n",
       "      <td>4.858794</td>\n",
       "      <td>130.595027</td>\n",
       "    </tr>\n",
       "    <tr>\n",
       "      <th>max</th>\n",
       "      <td>7.238262</td>\n",
       "      <td>7.844801</td>\n",
       "      <td>16.739402</td>\n",
       "      <td>190.029838</td>\n",
       "    </tr>\n",
       "  </tbody>\n",
       "</table>\n",
       "</div>"
      ],
      "text/plain": [
       "                  f0             f1             f2        product\n",
       "count  100000.000000  100000.000000  100000.000000  100000.000000\n",
       "mean        0.002023      -0.002081       2.495128      95.000000\n",
       "std         1.732045       1.730417       3.473445      44.749921\n",
       "min        -8.760004      -7.084020     -11.970335       0.000000\n",
       "25%        -1.162288      -1.174820       0.130359      59.450441\n",
       "50%         0.009424      -0.009482       2.484236      94.925613\n",
       "75%         1.158535       1.163678       4.858794     130.595027\n",
       "max         7.238262       7.844801      16.739402     190.029838"
      ]
     },
     "execution_count": 5,
     "metadata": {},
     "output_type": "execute_result"
    }
   ],
   "source": [
    "# изучение geo_data_2\n",
    "geo_data_2.info()\n",
    "display(geo_data_2.head())\n",
    "geo_data_2.describe()"
   ]
  },
  {
   "cell_type": "markdown",
   "metadata": {
    "id": "GAQdLl93Bljz"
   },
   "source": [
    "### Выводы\n",
    "- Данные загружены и не требуют предобрабтки"
   ]
  },
  {
   "cell_type": "markdown",
   "metadata": {
    "id": "An7hKTc7DlcG"
   },
   "source": [
    "## Обучение модели"
   ]
  },
  {
   "cell_type": "markdown",
   "metadata": {
    "id": "SroX_WOACwYE"
   },
   "source": [
    "### Регион 1"
   ]
  },
  {
   "cell_type": "code",
   "execution_count": 6,
   "metadata": {
    "colab": {
     "base_uri": "https://localhost:8080/"
    },
    "id": "59mo3nLgDmuB",
    "outputId": "2d56df42-007d-4810-9955-c02c6cc2cd28"
   },
   "outputs": [
    {
     "name": "stdout",
     "output_type": "stream",
     "text": [
      "Среднеквадратичная ошибка RMSE: 37.76\n",
      "Средний запас сырья: 92.40\n"
     ]
    }
   ],
   "source": [
    "X_0 = geo_data_0.drop(['product', 'id'], axis=1)\n",
    "y_0 = geo_data_0['product']\n",
    "\n",
    "# разделение на обучающую и валидационную выборки\n",
    "X_train_0, X_valid_0, y_train_0, y_valid_0 = train_test_split(\n",
    "    X_0,\n",
    "    y_0,\n",
    "    test_size=TEST_SIZE,\n",
    "    random_state=RANDOM_STATE)\n",
    "\n",
    "# обучение модели\n",
    "model_0 = LinearRegression()\n",
    "model_0.fit(X_train_0, y_train_0)\n",
    "predict_0 = model_0.predict(X_valid_0)\n",
    "rmse_0 = mean_squared_error(y_valid_0, predict_0)**0.5\n",
    "print('Среднеквадратичная ошибка RMSE: %.2f'% rmse_0)\n",
    "print('Средний запас сырья: %.2f'% predict_0.mean())"
   ]
  },
  {
   "cell_type": "markdown",
   "metadata": {
    "id": "Aw49OZisDR7h"
   },
   "source": [
    "### Регион 2"
   ]
  },
  {
   "cell_type": "code",
   "execution_count": 7,
   "metadata": {
    "colab": {
     "base_uri": "https://localhost:8080/"
    },
    "id": "mTNQGMHCDVXR",
    "outputId": "6c398d57-b877-4621-fbe8-8c6090913753"
   },
   "outputs": [
    {
     "name": "stdout",
     "output_type": "stream",
     "text": [
      "Среднеквадратичная ошибка RMSE: 0.89\n",
      "Средний запас сырья: 68.71\n"
     ]
    }
   ],
   "source": [
    "X_1 = geo_data_1.drop(['product', 'id'], axis=1)\n",
    "y_1 = geo_data_1['product']\n",
    "\n",
    "# разделение на обучающую и валидационную выборки\n",
    "X_train_1, X_valid_1, y_train_1, y_valid_1 = train_test_split(\n",
    "    X_1,\n",
    "    y_1,\n",
    "    test_size=TEST_SIZE,\n",
    "    random_state=RANDOM_STATE)\n",
    "\n",
    "# обучение модели\n",
    "model_1 = LinearRegression()\n",
    "model_1.fit(X_train_1, y_train_1)\n",
    "predict_1 = model_1.predict(X_valid_1)\n",
    "rmse_1 = mean_squared_error(y_valid_1, predict_1)**0.5\n",
    "print('Среднеквадратичная ошибка RMSE: %.2f'% rmse_1)\n",
    "print('Средний запас сырья: %.2f'% predict_1.mean())"
   ]
  },
  {
   "cell_type": "markdown",
   "metadata": {
    "id": "PqU_E_b4DUCA"
   },
   "source": [
    "### Регион 3"
   ]
  },
  {
   "cell_type": "code",
   "execution_count": 8,
   "metadata": {
    "colab": {
     "base_uri": "https://localhost:8080/"
    },
    "id": "U9iSib61DVpy",
    "outputId": "5f05e249-161c-4ecd-d54c-4381d1fcdc33"
   },
   "outputs": [
    {
     "name": "stdout",
     "output_type": "stream",
     "text": [
      "Среднеквадратичная ошибка RMSE: 40.15\n",
      "Средний запас сырья: 94.77\n"
     ]
    }
   ],
   "source": [
    "X_2 = geo_data_2.drop(['product', 'id'], axis=1)\n",
    "y_2 = geo_data_2['product']\n",
    "\n",
    "# разделение на обучающую и валидационную выборки\n",
    "X_train_2, X_valid_2, y_train_2, y_valid_2 = train_test_split(\n",
    "    X_2,\n",
    "    y_2,\n",
    "    test_size=TEST_SIZE,\n",
    "    random_state=RANDOM_STATE)\n",
    "\n",
    "# обучение модели\n",
    "model_2 = LinearRegression()\n",
    "model_2.fit(X_train_2, y_train_2)\n",
    "predict_2 = model_2.predict(X_valid_2)\n",
    "rmse_2 = mean_squared_error(y_valid_2, predict_2)**0.5\n",
    "print('Среднеквадратичная ошибка RMSE: %.2f'% rmse_2)\n",
    "print('Средний запас сырья: %.2f'% predict_2.mean())"
   ]
  },
  {
   "cell_type": "markdown",
   "metadata": {
    "id": "kVVBlXJFDoc-"
   },
   "source": [
    "## Подготовка данных"
   ]
  },
  {
   "cell_type": "code",
   "execution_count": 9,
   "metadata": {
    "id": "ZuPNrsxDDpGK"
   },
   "outputs": [],
   "source": [
    "# бюджет на разработку скважин в регионе, тыс.руб\n",
    "BUDGET = 10000000\n",
    "# доход с каждой единицы продукта, тыс.руб\n",
    "INCOME_ONE = 450\n",
    "# вероятность убытков\n",
    "PROBABILITY_LOSSES = 2.5/100"
   ]
  },
  {
   "cell_type": "code",
   "execution_count": 10,
   "metadata": {
    "colab": {
     "base_uri": "https://localhost:8080/"
    },
    "id": "Gcpfd4yUSee-",
    "outputId": "3090c9d7-24eb-45c2-8315-e330d58bf2dd"
   },
   "outputs": [
    {
     "name": "stdout",
     "output_type": "stream",
     "text": [
      "Бюджет на разработку одной скважины: 50.0 млн.руб\n",
      "Объём каждой скважины для безубыточной разработки должен составлять не менее: 111.11 тыс.баррелей\n"
     ]
    }
   ],
   "source": [
    "budg_1_point = (BUDGET/200)# тыс.руб\n",
    "print('Бюджет на разработку одной скважины:', budg_1_point/1000,'млн.руб')\n",
    "V_point = budg_1_point/INCOME_ONE\n",
    "print('Объём каждой скважины для безубыточной разработки должен составлять не менее: %.2f'%V_point,'тыс.баррелей')"
   ]
  },
  {
   "cell_type": "markdown",
   "metadata": {
    "id": "eFUvEIxUTTda"
   },
   "source": [
    "### Регион 1"
   ]
  },
  {
   "cell_type": "code",
   "execution_count": 11,
   "metadata": {
    "colab": {
     "base_uri": "https://localhost:8080/",
     "height": 206
    },
    "id": "sJvUqnebTaAq",
    "outputId": "256e5930-5164-48b6-93a3-b011f23277a5"
   },
   "outputs": [
    {
     "data": {
      "text/html": [
       "<div>\n",
       "<style scoped>\n",
       "    .dataframe tbody tr th:only-of-type {\n",
       "        vertical-align: middle;\n",
       "    }\n",
       "\n",
       "    .dataframe tbody tr th {\n",
       "        vertical-align: top;\n",
       "    }\n",
       "\n",
       "    .dataframe thead th {\n",
       "        text-align: right;\n",
       "    }\n",
       "</style>\n",
       "<table border=\"1\" class=\"dataframe\">\n",
       "  <thead>\n",
       "    <tr style=\"text-align: right;\">\n",
       "      <th></th>\n",
       "      <th>id</th>\n",
       "      <th>f0</th>\n",
       "      <th>f1</th>\n",
       "      <th>f2</th>\n",
       "      <th>product</th>\n",
       "      <th>profit</th>\n",
       "    </tr>\n",
       "  </thead>\n",
       "  <tbody>\n",
       "    <tr>\n",
       "      <th>0</th>\n",
       "      <td>txEyH</td>\n",
       "      <td>0.705745</td>\n",
       "      <td>-0.497823</td>\n",
       "      <td>1.221170</td>\n",
       "      <td>105.280062</td>\n",
       "      <td>47376.03</td>\n",
       "    </tr>\n",
       "    <tr>\n",
       "      <th>1</th>\n",
       "      <td>2acmU</td>\n",
       "      <td>1.334711</td>\n",
       "      <td>-0.340164</td>\n",
       "      <td>4.365080</td>\n",
       "      <td>73.037750</td>\n",
       "      <td>32866.99</td>\n",
       "    </tr>\n",
       "    <tr>\n",
       "      <th>2</th>\n",
       "      <td>409Wp</td>\n",
       "      <td>1.022732</td>\n",
       "      <td>0.151990</td>\n",
       "      <td>1.419926</td>\n",
       "      <td>85.265647</td>\n",
       "      <td>38369.54</td>\n",
       "    </tr>\n",
       "    <tr>\n",
       "      <th>3</th>\n",
       "      <td>iJLyR</td>\n",
       "      <td>-0.032172</td>\n",
       "      <td>0.139033</td>\n",
       "      <td>2.978566</td>\n",
       "      <td>168.620776</td>\n",
       "      <td>75879.35</td>\n",
       "    </tr>\n",
       "    <tr>\n",
       "      <th>4</th>\n",
       "      <td>Xdl7t</td>\n",
       "      <td>1.988431</td>\n",
       "      <td>0.155413</td>\n",
       "      <td>4.751769</td>\n",
       "      <td>154.036647</td>\n",
       "      <td>69316.49</td>\n",
       "    </tr>\n",
       "  </tbody>\n",
       "</table>\n",
       "</div>"
      ],
      "text/plain": [
       "      id        f0        f1        f2     product    profit\n",
       "0  txEyH  0.705745 -0.497823  1.221170  105.280062  47376.03\n",
       "1  2acmU  1.334711 -0.340164  4.365080   73.037750  32866.99\n",
       "2  409Wp  1.022732  0.151990  1.419926   85.265647  38369.54\n",
       "3  iJLyR -0.032172  0.139033  2.978566  168.620776  75879.35\n",
       "4  Xdl7t  1.988431  0.155413  4.751769  154.036647  69316.49"
      ]
     },
     "execution_count": 11,
     "metadata": {},
     "output_type": "execute_result"
    }
   ],
   "source": [
    "geo_data_0['profit'] = (geo_data_0['product']*(INCOME_ONE)).round(2)\n",
    "geo_data_0.head()"
   ]
  },
  {
   "cell_type": "code",
   "execution_count": 12,
   "metadata": {
    "colab": {
     "base_uri": "https://localhost:8080/"
    },
    "id": "9-8aiT_dT1v_",
    "outputId": "4b12cfa0-3d02-49d2-f69f-29ca611ac5f2"
   },
   "outputs": [
    {
     "name": "stdout",
     "output_type": "stream",
     "text": [
      "Разница объёма сырья для безубыточной разработки по 1 региону: -16.84%\n",
      "18.71 тыс.баррелей\n"
     ]
    }
   ],
   "source": [
    "print('Разница объёма сырья для безубыточной разработки по 1 региону: {:.2%}'.format(predict_0.mean()/V_point-1))\n",
    "print('{:.2f} тыс.баррелей'.format(V_point-predict_0.mean()))"
   ]
  },
  {
   "cell_type": "markdown",
   "metadata": {
    "id": "6UAvmepaTWmC"
   },
   "source": [
    "### Регион 2"
   ]
  },
  {
   "cell_type": "code",
   "execution_count": 13,
   "metadata": {
    "colab": {
     "base_uri": "https://localhost:8080/",
     "height": 206
    },
    "id": "Kw0Cv-KNTZui",
    "outputId": "d6772145-0fe3-4434-816d-bf61c3769b6a"
   },
   "outputs": [
    {
     "data": {
      "text/html": [
       "<div>\n",
       "<style scoped>\n",
       "    .dataframe tbody tr th:only-of-type {\n",
       "        vertical-align: middle;\n",
       "    }\n",
       "\n",
       "    .dataframe tbody tr th {\n",
       "        vertical-align: top;\n",
       "    }\n",
       "\n",
       "    .dataframe thead th {\n",
       "        text-align: right;\n",
       "    }\n",
       "</style>\n",
       "<table border=\"1\" class=\"dataframe\">\n",
       "  <thead>\n",
       "    <tr style=\"text-align: right;\">\n",
       "      <th></th>\n",
       "      <th>id</th>\n",
       "      <th>f0</th>\n",
       "      <th>f1</th>\n",
       "      <th>f2</th>\n",
       "      <th>product</th>\n",
       "      <th>profit</th>\n",
       "    </tr>\n",
       "  </thead>\n",
       "  <tbody>\n",
       "    <tr>\n",
       "      <th>0</th>\n",
       "      <td>kBEdx</td>\n",
       "      <td>-15.001348</td>\n",
       "      <td>-8.276000</td>\n",
       "      <td>-0.005876</td>\n",
       "      <td>3.179103</td>\n",
       "      <td>1430.60</td>\n",
       "    </tr>\n",
       "    <tr>\n",
       "      <th>1</th>\n",
       "      <td>62mP7</td>\n",
       "      <td>14.272088</td>\n",
       "      <td>-3.475083</td>\n",
       "      <td>0.999183</td>\n",
       "      <td>26.953261</td>\n",
       "      <td>12128.97</td>\n",
       "    </tr>\n",
       "    <tr>\n",
       "      <th>2</th>\n",
       "      <td>vyE1P</td>\n",
       "      <td>6.263187</td>\n",
       "      <td>-5.948386</td>\n",
       "      <td>5.001160</td>\n",
       "      <td>134.766305</td>\n",
       "      <td>60644.84</td>\n",
       "    </tr>\n",
       "    <tr>\n",
       "      <th>3</th>\n",
       "      <td>KcrkZ</td>\n",
       "      <td>-13.081196</td>\n",
       "      <td>-11.506057</td>\n",
       "      <td>4.999415</td>\n",
       "      <td>137.945408</td>\n",
       "      <td>62075.43</td>\n",
       "    </tr>\n",
       "    <tr>\n",
       "      <th>4</th>\n",
       "      <td>AHL4O</td>\n",
       "      <td>12.702195</td>\n",
       "      <td>-8.147433</td>\n",
       "      <td>5.004363</td>\n",
       "      <td>134.766305</td>\n",
       "      <td>60644.84</td>\n",
       "    </tr>\n",
       "  </tbody>\n",
       "</table>\n",
       "</div>"
      ],
      "text/plain": [
       "      id         f0         f1        f2     product    profit\n",
       "0  kBEdx -15.001348  -8.276000 -0.005876    3.179103   1430.60\n",
       "1  62mP7  14.272088  -3.475083  0.999183   26.953261  12128.97\n",
       "2  vyE1P   6.263187  -5.948386  5.001160  134.766305  60644.84\n",
       "3  KcrkZ -13.081196 -11.506057  4.999415  137.945408  62075.43\n",
       "4  AHL4O  12.702195  -8.147433  5.004363  134.766305  60644.84"
      ]
     },
     "execution_count": 13,
     "metadata": {},
     "output_type": "execute_result"
    }
   ],
   "source": [
    "geo_data_1['profit'] = (geo_data_1['product']*(INCOME_ONE)).round(2)\n",
    "geo_data_1.head()"
   ]
  },
  {
   "cell_type": "code",
   "execution_count": 14,
   "metadata": {
    "colab": {
     "base_uri": "https://localhost:8080/"
    },
    "id": "2VkXC1GoUbg8",
    "outputId": "3911c084-225e-41c7-a05b-35d1f566d029"
   },
   "outputs": [
    {
     "name": "stdout",
     "output_type": "stream",
     "text": [
      "Разница объёма сырья для безубыточной разработки по 2 региону: -38.16%\n",
      "42.40 тыс.баррелей\n"
     ]
    }
   ],
   "source": [
    "print('Разница объёма сырья для безубыточной разработки по 2 региону: {:.2%}'.format(predict_1.mean()/V_point-1))\n",
    "print('{:.2f} тыс.баррелей'.format(V_point-predict_1.mean()))"
   ]
  },
  {
   "cell_type": "markdown",
   "metadata": {
    "id": "8SMz6jjtTYQS"
   },
   "source": [
    "### Регион 3"
   ]
  },
  {
   "cell_type": "code",
   "execution_count": 16,
   "metadata": {
    "colab": {
     "base_uri": "https://localhost:8080/",
     "height": 206
    },
    "id": "toXuh4_xTTJD",
    "outputId": "7371dba3-1013-421a-87eb-321423b7a369"
   },
   "outputs": [
    {
     "data": {
      "text/html": [
       "<div>\n",
       "<style scoped>\n",
       "    .dataframe tbody tr th:only-of-type {\n",
       "        vertical-align: middle;\n",
       "    }\n",
       "\n",
       "    .dataframe tbody tr th {\n",
       "        vertical-align: top;\n",
       "    }\n",
       "\n",
       "    .dataframe thead th {\n",
       "        text-align: right;\n",
       "    }\n",
       "</style>\n",
       "<table border=\"1\" class=\"dataframe\">\n",
       "  <thead>\n",
       "    <tr style=\"text-align: right;\">\n",
       "      <th></th>\n",
       "      <th>id</th>\n",
       "      <th>f0</th>\n",
       "      <th>f1</th>\n",
       "      <th>f2</th>\n",
       "      <th>product</th>\n",
       "      <th>profit</th>\n",
       "    </tr>\n",
       "  </thead>\n",
       "  <tbody>\n",
       "    <tr>\n",
       "      <th>0</th>\n",
       "      <td>fwXo0</td>\n",
       "      <td>-1.146987</td>\n",
       "      <td>0.963328</td>\n",
       "      <td>-0.828965</td>\n",
       "      <td>27.758673</td>\n",
       "      <td>12491.40</td>\n",
       "    </tr>\n",
       "    <tr>\n",
       "      <th>1</th>\n",
       "      <td>WJtFt</td>\n",
       "      <td>0.262778</td>\n",
       "      <td>0.269839</td>\n",
       "      <td>-2.530187</td>\n",
       "      <td>56.069697</td>\n",
       "      <td>25231.36</td>\n",
       "    </tr>\n",
       "    <tr>\n",
       "      <th>2</th>\n",
       "      <td>ovLUW</td>\n",
       "      <td>0.194587</td>\n",
       "      <td>0.289035</td>\n",
       "      <td>-5.586433</td>\n",
       "      <td>62.871910</td>\n",
       "      <td>28292.36</td>\n",
       "    </tr>\n",
       "    <tr>\n",
       "      <th>3</th>\n",
       "      <td>q6cA6</td>\n",
       "      <td>2.236060</td>\n",
       "      <td>-0.553760</td>\n",
       "      <td>0.930038</td>\n",
       "      <td>114.572842</td>\n",
       "      <td>51557.78</td>\n",
       "    </tr>\n",
       "    <tr>\n",
       "      <th>4</th>\n",
       "      <td>WPMUX</td>\n",
       "      <td>-0.515993</td>\n",
       "      <td>1.716266</td>\n",
       "      <td>5.899011</td>\n",
       "      <td>149.600746</td>\n",
       "      <td>67320.34</td>\n",
       "    </tr>\n",
       "  </tbody>\n",
       "</table>\n",
       "</div>"
      ],
      "text/plain": [
       "      id        f0        f1        f2     product    profit\n",
       "0  fwXo0 -1.146987  0.963328 -0.828965   27.758673  12491.40\n",
       "1  WJtFt  0.262778  0.269839 -2.530187   56.069697  25231.36\n",
       "2  ovLUW  0.194587  0.289035 -5.586433   62.871910  28292.36\n",
       "3  q6cA6  2.236060 -0.553760  0.930038  114.572842  51557.78\n",
       "4  WPMUX -0.515993  1.716266  5.899011  149.600746  67320.34"
      ]
     },
     "execution_count": 16,
     "metadata": {},
     "output_type": "execute_result"
    }
   ],
   "source": [
    "geo_data_2['profit'] = (geo_data_2['product']*(INCOME_ONE)).round(2)\n",
    "geo_data_2.head()"
   ]
  },
  {
   "cell_type": "code",
   "execution_count": 17,
   "metadata": {
    "colab": {
     "base_uri": "https://localhost:8080/"
    },
    "id": "tIW4SGxvUiyT",
    "outputId": "0f816bfa-d699-43ee-e2cc-120d806ab524"
   },
   "outputs": [
    {
     "name": "stdout",
     "output_type": "stream",
     "text": [
      "Разница объёма сырья для безубыточной разработки по 3 региону: -14.71%\n",
      "16.34 тыс.баррелей\n"
     ]
    }
   ],
   "source": [
    "print('Разница объёма сырья для безубыточной разработки по 3 региону: {:.2%}'.format(predict_2.mean()/V_point-1))\n",
    "print('{:.2f} тыс.баррелей'.format(V_point-predict_2.mean()))"
   ]
  },
  {
   "cell_type": "markdown",
   "metadata": {
    "id": "ahIYg_BxUuhL"
   },
   "source": [
    "### Выводы:\n",
    "Среднего количества сырья по регионам недостаточно для безубточной разработки, требуется выбрать скважины с максимальными запасами"
   ]
  },
  {
   "cell_type": "markdown",
   "metadata": {
    "id": "WYRA4KYsDq6F"
   },
   "source": [
    "## Расчёт прибыли по выбранным скважинам и предсказаниям модели"
   ]
  },
  {
   "cell_type": "code",
   "execution_count": 18,
   "metadata": {
    "id": "qjemKxRfV7eq"
   },
   "outputs": [],
   "source": [
    "def profit_for_vp(predict, target, count):\n",
    "    well_sorted = pd.Series(predict, index=target.index).sort_values(ascending=False)\n",
    "    selected_max = well_sorted[:count].sum()\n",
    "    profit_pred=(selected_max*INCOME_ONE)-BUDGET\n",
    "    print('Суммарный запас сырья в 200 лучших скважинах составит: %.2f тыс.баррелей'%selected_max)\n",
    "    print('Прибыль для полученного объёма сырья составит %.2f млн.рублей'%(profit_pred/1000))"
   ]
  },
  {
   "cell_type": "markdown",
   "metadata": {
    "id": "rW84NlRkW805"
   },
   "source": [
    "#### Регион 1"
   ]
  },
  {
   "cell_type": "code",
   "execution_count": 19,
   "metadata": {
    "colab": {
     "base_uri": "https://localhost:8080/"
    },
    "id": "xXbBmJEVW_eA",
    "outputId": "96f9cf74-8c19-4845-a476-7d0ed75b170f"
   },
   "outputs": [
    {
     "name": "stdout",
     "output_type": "stream",
     "text": [
      "Суммарный запас сырья в 200 лучших скважинах составит: 30881.46 тыс.баррелей\n",
      "Прибыль для полученного объёма сырья составит 3896.66 млн.рублей\n"
     ]
    }
   ],
   "source": [
    "profit_for_vp(predict_0, y_valid_0, 200)"
   ]
  },
  {
   "cell_type": "markdown",
   "metadata": {
    "id": "1Sx44cyGXHqb"
   },
   "source": [
    "#### Регион 2"
   ]
  },
  {
   "cell_type": "code",
   "execution_count": 20,
   "metadata": {
    "colab": {
     "base_uri": "https://localhost:8080/"
    },
    "id": "J1QJ-FyzXHTo",
    "outputId": "384a26be-d91c-43a8-8423-ad245a90097d"
   },
   "outputs": [
    {
     "name": "stdout",
     "output_type": "stream",
     "text": [
      "Суммарный запас сырья в 200 лучших скважинах составит: 27748.75 тыс.баррелей\n",
      "Прибыль для полученного объёма сырья составит 2486.94 млн.рублей\n"
     ]
    }
   ],
   "source": [
    "profit_for_vp(predict_1, y_valid_1, 200)"
   ]
  },
  {
   "cell_type": "markdown",
   "metadata": {
    "id": "UbV2QavFXJt8"
   },
   "source": [
    "#### Регион 3"
   ]
  },
  {
   "cell_type": "code",
   "execution_count": 21,
   "metadata": {
    "colab": {
     "base_uri": "https://localhost:8080/"
    },
    "id": "ZoW_NIBtXKJz",
    "outputId": "114b166f-7841-4edf-b159-b54a948fac31"
   },
   "outputs": [
    {
     "name": "stdout",
     "output_type": "stream",
     "text": [
      "Суммарный запас сырья в 200 лучших скважинах составит: 29728.85 тыс.баррелей\n",
      "Прибыль для полученного объёма сырья составит 3377.98 млн.рублей\n"
     ]
    }
   ],
   "source": [
    "profit_for_vp(predict_2, y_valid_2, 200)"
   ]
  },
  {
   "cell_type": "markdown",
   "metadata": {
    "id": "JvjYDOAMXSCX"
   },
   "source": [
    "#### Выводы: все регионы потенциально выгодня для разработки."
   ]
  },
  {
   "cell_type": "markdown",
   "metadata": {
    "id": "9RIUyRXhDtNe"
   },
   "source": [
    "## Риски и прибыль для каждого региона"
   ]
  },
  {
   "cell_type": "code",
   "execution_count": 169,
   "metadata": {
    "id": "PvAdvxiDDrp1"
   },
   "outputs": [],
   "source": [
    "def profit(predict, target, count):\n",
    "    well_sorted = pd.Series(predict).reset_index(drop=True).sort_values(ascending=False)\n",
    "    selected_points = target.reset_index(drop=True)[well_sorted.index][:count]\n",
    "\n",
    "    product = selected_points.sum()\n",
    "    revenue = product * INCOME_ONE\n",
    "    return revenue - BUDGET"
   ]
  },
  {
   "cell_type": "code",
   "execution_count": 170,
   "metadata": {},
   "outputs": [],
   "source": [
    "def bootstap_1000(target, predict):\n",
    "    values = []\n",
    "    count=0\n",
    "    state = np.random.RandomState(12345)\n",
    "    predict_e = pd.Series(predict, index=target.index)\n",
    "\n",
    "    for i in tqdm(range(1000)):\n",
    "        target_subsample = target.sample(n=500,replace=True, random_state=state)\n",
    "        well_subsample = predict_e[target_subsample.index]\n",
    "        \n",
    "        values.append(profit(well_subsample,target_subsample, 200))\n",
    "    for i in values:\n",
    "        if i < 0:\n",
    "            count +=1\n",
    "\n",
    "    values = pd.Series(values)\n",
    "    mean = values.mean()\n",
    "    confidence_interval = st.t.interval(0.95, len(values)-1, values.mean(), values.sem())\n",
    "\n",
    "    plt.title('Распределение прибыли')\n",
    "    values.plot(kind=\"hist\", grid=True, figsize=(7,5))\n",
    "    plt.xlabel('Прибыль, тыс.руб')\n",
    "    plt.ylabel('Количество')\n",
    "    plt.show()\n",
    "\n",
    "    low_95 = values.quantile(0.025)\n",
    "    high_95 = values.quantile(0.975)\n",
    "\n",
    "    print(\"Средняя прибыль: {:.2f} млн.руб\".format(mean/1000))\n",
    "    print('С вероятностью 95% прибыль в данном регионе будет составлять от: {:.2f} млн.руб до: {:.2f} млн.руб'.format((low_95/1000),(high_95/1000)))\n",
    "    print(\"95%-ый доверительный интервал: {:.2f} млн.руб - {:.2f} млн.руб\". format((confidence_interval[0]/1000),(confidence_interval[1]/1000)))\n",
    "    print ('Процент вероятности убытка в данном регионе: {:.1%}'.format(count/1000))"
   ]
  },
  {
   "cell_type": "markdown",
   "metadata": {
    "id": "mFmt0aDxUudN"
   },
   "source": [
    "#### Распределение прибыли в 1 регионе"
   ]
  },
  {
   "cell_type": "code",
   "execution_count": 171,
   "metadata": {
    "colab": {
     "base_uri": "https://localhost:8080/",
     "height": 588,
     "referenced_widgets": [
      "fbfe59a25c4d4080870d2bce51461c81",
      "5bdf87bfd0d04c6db4f479c8c0b10de6",
      "b246b59ebb1147378665b9e81ef4b3a3",
      "15a853406f88447599bd835c176acd0d",
      "f2ef5d875c9f4356a3e7a93cd2c7a17e",
      "b5a0f23fc28248b5a9f9ac7f6a8d3e91",
      "7464b9aa40034ece8849554b65c52852",
      "327d54cc76a244d1bb63babde73adb93",
      "0e03d24b4eda420b95aafa4c92a2e387",
      "f593febcdc5a4331812cc841471b373e",
      "0e8efccb86b248fe919ba06b756372d9"
     ]
    },
    "id": "5SUbY_tdU0Jg",
    "outputId": "bc93efab-684c-4fb9-95a3-69807c8a7a47"
   },
   "outputs": [
    {
     "data": {
      "application/vnd.jupyter.widget-view+json": {
       "model_id": "9f5629e79cc14b2c99a8865059c3dd6b",
       "version_major": 2,
       "version_minor": 0
      },
      "text/plain": [
       "  0%|          | 0/1000 [00:00<?, ?it/s]"
      ]
     },
     "metadata": {},
     "output_type": "display_data"
    },
    {
     "data": {
      "image/png": "[encoded data removed]",
      "text/plain": [
       "<Figure size 504x360 with 1 Axes>"
      ]
     },
     "metadata": {
      "needs_background": "light"
     },
     "output_type": "display_data"
    },
    {
     "name": "stdout",
     "output_type": "stream",
     "text": [
      "Средняя прибыль: 406.28 млн.руб\n",
      "С вероятностью 95% прибыль в данном регионе будет составлять от: -117.74 млн.руб до: 911.74 млн.руб\n",
      "95%-ый доверительный интервал: 389.98 млн.руб - 422.58 млн.руб\n",
      "Процент вероятности убытка в данном регионе: 6.7%\n"
     ]
    }
   ],
   "source": [
    "bootstap_1000(y_valid_0, predict_0)"
   ]
  },
  {
   "cell_type": "markdown",
   "metadata": {
    "id": "sXw3WB43Vktu"
   },
   "source": [
    "#### Распределение прибыли во 2 регионе"
   ]
  },
  {
   "cell_type": "code",
   "execution_count": 172,
   "metadata": {
    "colab": {
     "base_uri": "https://localhost:8080/",
     "height": 588,
     "referenced_widgets": [
      "fd88fdf567a9429b8784dbad143eed42",
      "625bbe95241f4dea9679c12448fcbd23",
      "b1c2969a3d9f4e679f204cf837816453",
      "178b81ae462e49b6bba1570f2317badd",
      "35ac177965f1450b9881e5ce462487ef",
      "f448db41a4ae42f395923ed207b8464d",
      "897bf588f4f74b8cb47213bd5986a585",
      "1b81e6748fab4654985dcd4250768cd8",
      "488963f3fed84febb8a54a1083d6783f",
      "a04105d5702845bcbe40dd89598fdc6f",
      "02d3d22ea8e8403f86840fc73fbcd977"
     ]
    },
    "id": "HywOAxvsVkt0",
    "outputId": "76f000f1-8dfe-4c92-bac1-cc5b3f74a18a"
   },
   "outputs": [
    {
     "data": {
      "application/vnd.jupyter.widget-view+json": {
       "model_id": "0df269d9b9e445329148cea4fdbfce7a",
       "version_major": 2,
       "version_minor": 0
      },
      "text/plain": [
       "  0%|          | 0/1000 [00:00<?, ?it/s]"
      ]
     },
     "metadata": {},
     "output_type": "display_data"
    },
    {
     "data": {
      "image/png": "[encoded data removed]",
      "text/plain": [
       "<Figure size 504x360 with 1 Axes>"
      ]
     },
     "metadata": {
      "needs_background": "light"
     },
     "output_type": "display_data"
    },
    {
     "name": "stdout",
     "output_type": "stream",
     "text": [
      "Средняя прибыль: 432.62 млн.руб\n",
      "С вероятностью 95% прибыль в данном регионе будет составлять от: 16.85 млн.руб до: 815.97 млн.руб\n",
      "95%-ый доверительный интервал: 420.01 млн.руб - 445.24 млн.руб\n",
      "Процент вероятности убытка в данном регионе: 1.9%\n"
     ]
    }
   ],
   "source": [
    "bootstap_1000(y_valid_1, predict_1)"
   ]
  },
  {
   "cell_type": "markdown",
   "metadata": {
    "id": "CRShSybUXgs2"
   },
   "source": [
    "#### Распределение прибыли в 3 регионе"
   ]
  },
  {
   "cell_type": "code",
   "execution_count": 173,
   "metadata": {
    "colab": {
     "base_uri": "https://localhost:8080/",
     "height": 588,
     "referenced_widgets": [
      "a953cc9c08484a5796212c27893fcc08",
      "6edecbc7b1564338a39a27a91000e774",
      "5bfbe83ee0e94fe080cd4f5fe7a7b851",
      "8c7ec24c0ef440d9bb886383de67a61d",
      "7dd959237e224210b9dff369f02bf154",
      "cb1d0da3ae314fdb89bf5846ef5cb278",
      "4c2c4f1e7ceb4e428ae591c640d95b56",
      "d0dbc5437b4841f3b5c36fdfd9b91461",
      "9b67a1fbe36941eaa4b71a5d6c015c6a",
      "622f550673794eaaa58824538af851dd",
      "ebf28a43e8ed447ca3dcdb2183963b0d"
     ]
    },
    "id": "Vi0lZp4-DuHo",
    "outputId": "2995a885-18e8-45cc-c22e-079cc45bb0b6"
   },
   "outputs": [
    {
     "data": {
      "application/vnd.jupyter.widget-view+json": {
       "model_id": "4dd8ef87dd77499a9bcca1a9ccd52928",
       "version_major": 2,
       "version_minor": 0
      },
      "text/plain": [
       "  0%|          | 0/1000 [00:00<?, ?it/s]"
      ]
     },
     "metadata": {},
     "output_type": "display_data"
    },
    {
     "data": {
      "image/png": "[encoded data removed]",
      "text/plain": [
       "<Figure size 504x360 with 1 Axes>"
      ]
     },
     "metadata": {
      "needs_background": "light"
     },
     "output_type": "display_data"
    },
    {
     "name": "stdout",
     "output_type": "stream",
     "text": [
      "Средняя прибыль: 377.36 млн.руб\n",
      "С вероятностью 95% прибыль в данном регионе будет составлять от: -170.78 млн.руб до: 901.77 млн.руб\n",
      "95%-ый доверительный интервал: 360.62 млн.руб - 394.11 млн.руб\n",
      "Процент вероятности убытка в данном регионе: 7.4%\n"
     ]
    }
   ],
   "source": [
    "bootstap_1000(y_valid_2, predict_2)"
   ]
  },
  {
   "cell_type": "markdown",
   "metadata": {
    "id": "M-ohijYpXsi4"
   },
   "source": [
    "#### Выбор региона"
   ]
  },
  {
   "cell_type": "code",
   "execution_count": 174,
   "metadata": {
    "colab": {
     "base_uri": "https://localhost:8080/",
     "height": 143
    },
    "id": "35n1EJciXjf0",
    "outputId": "b162ad04-9a6c-4fa9-9145-0f9012ad5599"
   },
   "outputs": [
    {
     "data": {
      "text/html": [
       "<div>\n",
       "<style scoped>\n",
       "    .dataframe tbody tr th:only-of-type {\n",
       "        vertical-align: middle;\n",
       "    }\n",
       "\n",
       "    .dataframe tbody tr th {\n",
       "        vertical-align: top;\n",
       "    }\n",
       "\n",
       "    .dataframe thead th {\n",
       "        text-align: right;\n",
       "    }\n",
       "</style>\n",
       "<table border=\"1\" class=\"dataframe\">\n",
       "  <thead>\n",
       "    <tr style=\"text-align: right;\">\n",
       "      <th></th>\n",
       "      <th>1 регион</th>\n",
       "      <th>2 регион</th>\n",
       "      <th>3 регион</th>\n",
       "    </tr>\n",
       "  </thead>\n",
       "  <tbody>\n",
       "    <tr>\n",
       "      <th>Средняя прибыль в регионе, млн.руб</th>\n",
       "      <td>406.28</td>\n",
       "      <td>432.62</td>\n",
       "      <td>377.36</td>\n",
       "    </tr>\n",
       "    <tr>\n",
       "      <th>Суммарный запас сырья, тыс.баррелей</th>\n",
       "      <td>30881.46</td>\n",
       "      <td>27748.75</td>\n",
       "      <td>29728.85</td>\n",
       "    </tr>\n",
       "    <tr>\n",
       "      <th>Вероятность убытка, %</th>\n",
       "      <td>6.7</td>\n",
       "      <td>1.9</td>\n",
       "      <td>7.4</td>\n",
       "    </tr>\n",
       "  </tbody>\n",
       "</table>\n",
       "</div>"
      ],
      "text/plain": [
       "                                     1 регион  2 регион  3 регион\n",
       "Средняя прибыль в регионе, млн.руб     406.28    432.62    377.36\n",
       "Суммарный запас сырья, тыс.баррелей  30881.46  27748.75  29728.85\n",
       "Вероятность убытка, %                     6.7       1.9       7.4"
      ]
     },
     "execution_count": 174,
     "metadata": {},
     "output_type": "execute_result"
    }
   ],
   "source": [
    "reg_tab = pd.DataFrame(index=['Средняя прибыль в регионе, млн.руб','Суммарный запас сырья, тыс.баррелей','Вероятность убытка, %'], columns=['1 регион','2 регион','3 регион'])\n",
    "reg_tab['1 регион'] = '406.28', '30881.46','6.7'\n",
    "reg_tab['2 регион'] = '432.62', '27748.75','1.9'\n",
    "reg_tab['3 регион'] = '377.36', '29728.85','7.4'\n",
    "reg_tab"
   ]
  },
  {
   "cell_type": "code",
   "execution_count": 175,
   "metadata": {
    "colab": {
     "base_uri": "https://localhost:8080/",
     "height": 519
    },
    "id": "TsSBHlDqYc7t",
    "outputId": "336010da-7f59-46b5-9951-66e95ade103b"
   },
   "outputs": [
    {
     "data": {
      "image/png": "[encoded data removed]",
      "text/plain": [
       "<Figure size 504x360 with 1 Axes>"
      ]
     },
     "metadata": {
      "needs_background": "light"
     },
     "output_type": "display_data"
    }
   ],
   "source": [
    "reg_tab.astype('float').iloc[0,:].plot(kind=\"bar\", figsize=(7,5), grid=True, subplots=True)\n",
    "plt.title('Средняя прибыль трёх регионов')\n",
    "plt.ylabel('Средняя прибыль в регионе, млн.руб')\n",
    "plt.show()"
   ]
  },
  {
   "cell_type": "code",
   "execution_count": 176,
   "metadata": {
    "colab": {
     "base_uri": "https://localhost:8080/",
     "height": 598
    },
    "id": "sydQse3WYlN-",
    "outputId": "26b7f08a-6219-4d2d-e46c-fafbba2a9962"
   },
   "outputs": [
    {
     "data": {
      "image/png": "[encoded data removed]",
      "text/plain": [
       "<Figure size 504x504 with 1 Axes>"
      ]
     },
     "metadata": {},
     "output_type": "display_data"
    }
   ],
   "source": [
    "reg_tab.astype('float').iloc[1,:].plot(kind='pie', figsize=(7,7),autopct='%1.1f%%', subplots=True)\n",
    "plt.title('Суммарный запас сырья, тыс.баррелей')\n",
    "plt.ylabel('')\n",
    "plt.show()"
   ]
  },
  {
   "cell_type": "markdown",
   "metadata": {
    "id": "Xz8IglDVZNAh"
   },
   "source": [
    "#### Выводы:\n",
    "По распределению средней прибыли, самым прибыльным оказался 2-й регион со средней прибылью 489.66 млн рублей. Два других региона не подходят по минимальному порогу убытка в 2,5%. Несмотря на меньшие запасы сырья, средняя доходность скважин во втором регионе прогнозируется выше."
   ]
  },
  {
   "cell_type": "markdown",
   "metadata": {
    "id": "yR2fNJiIZmPK"
   },
   "source": [
    "## Общие выводы"
   ]
  },
  {
   "cell_type": "markdown",
   "metadata": {
    "id": "3La-7iaxZvWK"
   },
   "source": [
    "В процессе исследования были проанализирован данные по 3 регионам. В каждом были изучены данные по запасам сырья в 10 тыс. скважин.\n",
    "\n",
    "В ходе анализа выяснилось, что средний запас ресурсов по регионам недостаточен для окупаемости вложений. Для оценки перспективности разработки была обучена модель линейной регрессии и использовали метод bootstrap с 1000 выборок для каждого предсказания прибыли.\n",
    "\n",
    "Определив 95%-й доверительный интервал прибыли и ограничив вероятность убытка до 2,5%, получилось выбрать наиболее перспективный регион для разработки 200 скважин.\n",
    "\n",
    "Регион 2 несмотря на сравнительно меньшие прогнозируемые запасы сырья (27748.75 тыс.баррелей) и вероятность убытка 1.9%, второй регион показал наибольшую среднюю прибыль в 445.24 млн рублей. Полученные данные определили выбор в пользу 2 региона."
   ]
  }
 ],
 "metadata": {
  "ExecuteTimeLog": [
   {
    "duration": 1748,
    "start_time": "2024-07-01T11:02:12.816Z"
   },
   {
    "duration": 426,
    "start_time": "2024-07-01T11:02:14.566Z"
   },
   {
    "duration": 63,
    "start_time": "2024-07-01T11:02:14.994Z"
   },
   {
    "duration": 76,
    "start_time": "2024-07-01T11:02:15.059Z"
   },
   {
    "duration": 73,
    "start_time": "2024-07-01T11:02:15.136Z"
   },
   {
    "duration": 90,
    "start_time": "2024-07-01T11:02:15.211Z"
   },
   {
    "duration": 121,
    "start_time": "2024-07-01T11:02:15.306Z"
   },
   {
    "duration": 189,
    "start_time": "2024-07-01T11:02:15.429Z"
   },
   {
    "duration": 79,
    "start_time": "2024-07-01T11:02:15.621Z"
   },
   {
    "duration": 94,
    "start_time": "2024-07-01T11:02:15.706Z"
   },
   {
    "duration": 16,
    "start_time": "2024-07-01T11:02:15.802Z"
   },
   {
    "duration": 3,
    "start_time": "2024-07-01T11:02:15.820Z"
   },
   {
    "duration": 13,
    "start_time": "2024-07-01T11:02:15.825Z"
   },
   {
    "duration": 3,
    "start_time": "2024-07-01T11:02:15.840Z"
   },
   {
    "duration": 14,
    "start_time": "2024-07-01T11:02:15.845Z"
   },
   {
    "duration": 3,
    "start_time": "2024-07-01T11:02:15.861Z"
   },
   {
    "duration": 18,
    "start_time": "2024-07-01T11:02:15.900Z"
   },
   {
    "duration": 16,
    "start_time": "2024-07-01T11:02:15.920Z"
   },
   {
    "duration": 10,
    "start_time": "2024-07-01T11:02:15.938Z"
   },
   {
    "duration": 8,
    "start_time": "2024-07-01T11:02:15.950Z"
   },
   {
    "duration": 8,
    "start_time": "2024-07-01T11:02:15.961Z"
   },
   {
    "duration": 12,
    "start_time": "2024-07-01T11:02:15.999Z"
   },
   {
    "duration": 3661,
    "start_time": "2024-07-01T11:02:16.012Z"
   },
   {
    "duration": 3583,
    "start_time": "2024-07-01T11:02:19.675Z"
   },
   {
    "duration": 3495,
    "start_time": "2024-07-01T11:02:23.260Z"
   },
   {
    "duration": 11,
    "start_time": "2024-07-01T11:02:26.757Z"
   },
   {
    "duration": 216,
    "start_time": "2024-07-01T11:02:26.770Z"
   },
   {
    "duration": 119,
    "start_time": "2024-07-01T11:02:26.990Z"
   },
   {
    "duration": 7,
    "start_time": "2024-07-01T11:05:46.240Z"
   },
   {
    "duration": 7,
    "start_time": "2024-07-01T11:05:46.254Z"
   },
   {
    "duration": 1481,
    "start_time": "2024-07-05T05:49:38.172Z"
   },
   {
    "duration": 1635,
    "start_time": "2024-07-05T05:49:39.656Z"
   },
   {
    "duration": 57,
    "start_time": "2024-07-05T05:49:41.292Z"
   },
   {
    "duration": 50,
    "start_time": "2024-07-05T05:49:41.351Z"
   },
   {
    "duration": 62,
    "start_time": "2024-07-05T05:49:41.403Z"
   },
   {
    "duration": 153,
    "start_time": "2024-07-05T05:49:41.467Z"
   },
   {
    "duration": 112,
    "start_time": "2024-07-05T05:49:41.622Z"
   },
   {
    "duration": 190,
    "start_time": "2024-07-05T05:49:41.735Z"
   },
   {
    "duration": 90,
    "start_time": "2024-07-05T05:49:41.930Z"
   },
   {
    "duration": 15,
    "start_time": "2024-07-05T05:49:42.022Z"
   },
   {
    "duration": 27,
    "start_time": "2024-07-05T05:49:42.040Z"
   },
   {
    "duration": 4,
    "start_time": "2024-07-05T05:49:42.069Z"
   },
   {
    "duration": 16,
    "start_time": "2024-07-05T05:49:42.075Z"
   },
   {
    "duration": 4,
    "start_time": "2024-07-05T05:49:42.094Z"
   },
   {
    "duration": 23,
    "start_time": "2024-07-05T05:49:42.099Z"
   },
   {
    "duration": 10,
    "start_time": "2024-07-05T05:49:46.196Z"
   },
   {
    "duration": 4,
    "start_time": "2024-07-05T05:49:47.354Z"
   },
   {
    "duration": 3,
    "start_time": "2024-07-05T05:49:50.117Z"
   },
   {
    "duration": 7,
    "start_time": "2024-07-05T05:49:54.934Z"
   },
   {
    "duration": 6,
    "start_time": "2024-07-05T05:49:56.354Z"
   },
   {
    "duration": 7,
    "start_time": "2024-07-05T05:49:57.329Z"
   },
   {
    "duration": 4,
    "start_time": "2024-07-05T05:50:01.280Z"
   },
   {
    "duration": 10,
    "start_time": "2024-07-05T05:50:11.104Z"
   },
   {
    "duration": 206,
    "start_time": "2024-07-05T05:50:13.904Z"
   },
   {
    "duration": 5,
    "start_time": "2024-07-05T05:52:02.947Z"
   },
   {
    "duration": 4,
    "start_time": "2024-07-05T05:52:57.655Z"
   },
   {
    "duration": 7,
    "start_time": "2024-07-05T05:53:02.816Z"
   },
   {
    "duration": 3240,
    "start_time": "2024-07-05T05:53:05.208Z"
   },
   {
    "duration": 6,
    "start_time": "2024-07-05T05:59:11.907Z"
   },
   {
    "duration": 7,
    "start_time": "2024-07-05T05:59:17.153Z"
   },
   {
    "duration": 56,
    "start_time": "2024-07-05T05:59:20.568Z"
   },
   {
    "duration": 5,
    "start_time": "2024-07-05T06:05:04.695Z"
   },
   {
    "duration": 7,
    "start_time": "2024-07-05T06:05:09.491Z"
   },
   {
    "duration": 54,
    "start_time": "2024-07-05T06:05:11.780Z"
   },
   {
    "duration": 4,
    "start_time": "2024-07-05T06:12:44.164Z"
   },
   {
    "duration": 9,
    "start_time": "2024-07-05T06:12:52.920Z"
   },
   {
    "duration": 43,
    "start_time": "2024-07-05T06:12:55.604Z"
   },
   {
    "duration": 46,
    "start_time": "2024-07-05T06:12:59.964Z"
   },
   {
    "duration": 4,
    "start_time": "2024-07-05T06:15:20.131Z"
   },
   {
    "duration": 7,
    "start_time": "2024-07-05T06:16:20.353Z"
   },
   {
    "duration": 1480,
    "start_time": "2024-07-05T06:16:23.190Z"
   },
   {
    "duration": 4,
    "start_time": "2024-07-05T06:16:55.381Z"
   },
   {
    "duration": 6,
    "start_time": "2024-07-05T06:16:57.939Z"
   },
   {
    "duration": 3168,
    "start_time": "2024-07-05T06:16:59.303Z"
   },
   {
    "duration": 5,
    "start_time": "2024-07-05T06:18:11.714Z"
   },
   {
    "duration": 82,
    "start_time": "2024-07-05T06:18:14.802Z"
   },
   {
    "duration": 57,
    "start_time": "2024-07-05T06:18:16.215Z"
   },
   {
    "duration": 4,
    "start_time": "2024-07-05T06:21:00.807Z"
   },
   {
    "duration": 9,
    "start_time": "2024-07-05T06:21:03.526Z"
   },
   {
    "duration": 3155,
    "start_time": "2024-07-05T06:21:05.140Z"
   },
   {
    "duration": 4,
    "start_time": "2024-07-05T06:25:37.281Z"
   },
   {
    "duration": 4,
    "start_time": "2024-07-05T06:25:43.637Z"
   },
   {
    "duration": 10,
    "start_time": "2024-07-05T06:25:47.114Z"
   },
   {
    "duration": 46,
    "start_time": "2024-07-05T06:25:48.840Z"
   },
   {
    "duration": 5,
    "start_time": "2024-07-05T06:27:50.117Z"
   },
   {
    "duration": 13,
    "start_time": "2024-07-05T06:27:52.764Z"
   },
   {
    "duration": 56,
    "start_time": "2024-07-05T06:27:53.739Z"
   },
   {
    "duration": 4,
    "start_time": "2024-07-05T06:28:34.638Z"
   },
   {
    "duration": 10,
    "start_time": "2024-07-05T06:28:37.075Z"
   },
   {
    "duration": 3043,
    "start_time": "2024-07-05T06:28:38.550Z"
   },
   {
    "duration": 8,
    "start_time": "2024-07-05T06:29:14.400Z"
   },
   {
    "duration": 2912,
    "start_time": "2024-07-05T06:29:15.975Z"
   },
   {
    "duration": 5,
    "start_time": "2024-07-05T06:30:35.993Z"
   },
   {
    "duration": 18,
    "start_time": "2024-07-05T06:31:15.754Z"
   },
   {
    "duration": 4,
    "start_time": "2024-07-05T06:31:39.137Z"
   },
   {
    "duration": 9,
    "start_time": "2024-07-05T06:31:39.725Z"
   },
   {
    "duration": 5,
    "start_time": "2024-07-05T06:36:12.430Z"
   },
   {
    "duration": 10,
    "start_time": "2024-07-05T06:36:13.312Z"
   },
   {
    "duration": 4,
    "start_time": "2024-07-05T06:36:30.250Z"
   },
   {
    "duration": 22,
    "start_time": "2024-07-05T06:36:31.062Z"
   },
   {
    "duration": 5,
    "start_time": "2024-07-05T06:37:09.250Z"
   },
   {
    "duration": 29,
    "start_time": "2024-07-05T06:37:10.050Z"
   },
   {
    "duration": 5,
    "start_time": "2024-07-05T06:37:17.237Z"
   },
   {
    "duration": 12,
    "start_time": "2024-07-05T06:37:17.862Z"
   },
   {
    "duration": 4,
    "start_time": "2024-07-05T06:38:30.511Z"
   },
   {
    "duration": 12,
    "start_time": "2024-07-05T06:38:30.912Z"
   },
   {
    "duration": 4,
    "start_time": "2024-07-05T06:41:31.716Z"
   },
   {
    "duration": 21,
    "start_time": "2024-07-05T06:41:32.137Z"
   },
   {
    "duration": 19,
    "start_time": "2024-07-05T06:42:29.212Z"
   },
   {
    "duration": 4,
    "start_time": "2024-07-05T06:42:46.074Z"
   },
   {
    "duration": 13,
    "start_time": "2024-07-05T06:42:46.737Z"
   },
   {
    "duration": 6,
    "start_time": "2024-07-05T06:44:15.399Z"
   },
   {
    "duration": 19,
    "start_time": "2024-07-05T06:44:15.799Z"
   },
   {
    "duration": 4,
    "start_time": "2024-07-05T06:45:08.486Z"
   },
   {
    "duration": 12,
    "start_time": "2024-07-05T06:45:09.587Z"
   },
   {
    "duration": 5,
    "start_time": "2024-07-05T06:45:18.548Z"
   },
   {
    "duration": 16,
    "start_time": "2024-07-05T06:45:19.373Z"
   },
   {
    "duration": 7,
    "start_time": "2024-07-05T06:45:35.474Z"
   },
   {
    "duration": 14,
    "start_time": "2024-07-05T06:45:36.061Z"
   },
   {
    "duration": 6,
    "start_time": "2024-07-05T06:45:44.328Z"
   },
   {
    "duration": 12,
    "start_time": "2024-07-05T06:45:44.737Z"
   },
   {
    "duration": 49,
    "start_time": "2024-07-05T06:47:22.436Z"
   },
   {
    "duration": 4,
    "start_time": "2024-07-05T06:48:46.312Z"
   },
   {
    "duration": 9,
    "start_time": "2024-07-05T06:48:47.273Z"
   },
   {
    "duration": 4,
    "start_time": "2024-07-05T06:48:50.648Z"
   },
   {
    "duration": 15,
    "start_time": "2024-07-05T06:48:51.111Z"
   },
   {
    "duration": 4,
    "start_time": "2024-07-05T06:54:10.598Z"
   },
   {
    "duration": 13,
    "start_time": "2024-07-05T06:54:10.998Z"
   },
   {
    "duration": 5,
    "start_time": "2024-07-05T06:56:10.010Z"
   },
   {
    "duration": 21,
    "start_time": "2024-07-05T06:56:10.435Z"
   },
   {
    "duration": 4,
    "start_time": "2024-07-05T06:57:19.048Z"
   },
   {
    "duration": 28,
    "start_time": "2024-07-05T06:57:19.699Z"
   },
   {
    "duration": 26,
    "start_time": "2024-07-05T06:57:53.811Z"
   },
   {
    "duration": 19,
    "start_time": "2024-07-05T06:57:57.486Z"
   },
   {
    "duration": 21,
    "start_time": "2024-07-05T06:58:04.198Z"
   },
   {
    "duration": 5,
    "start_time": "2024-07-05T06:59:11.285Z"
   },
   {
    "duration": 7,
    "start_time": "2024-07-05T06:59:11.812Z"
   },
   {
    "duration": 7,
    "start_time": "2024-07-05T06:59:23.560Z"
   },
   {
    "duration": 36,
    "start_time": "2024-07-05T06:59:24.836Z"
   },
   {
    "duration": 5,
    "start_time": "2024-07-05T07:01:37.096Z"
   },
   {
    "duration": 6,
    "start_time": "2024-07-05T07:01:38.910Z"
   },
   {
    "duration": 6,
    "start_time": "2024-07-05T07:01:57.060Z"
   },
   {
    "duration": 1301,
    "start_time": "2024-07-05T07:01:57.974Z"
   },
   {
    "duration": 1240,
    "start_time": "2024-07-05T07:03:27.384Z"
   },
   {
    "duration": 1241,
    "start_time": "2024-07-05T07:03:44.647Z"
   },
   {
    "duration": 7,
    "start_time": "2024-07-05T07:06:38.697Z"
   },
   {
    "duration": 36,
    "start_time": "2024-07-05T07:06:40.061Z"
   },
   {
    "duration": 7,
    "start_time": "2024-07-05T07:06:47.871Z"
   },
   {
    "duration": 42,
    "start_time": "2024-07-05T07:06:48.759Z"
   },
   {
    "duration": 7,
    "start_time": "2024-07-05T07:07:30.647Z"
   },
   {
    "duration": 12,
    "start_time": "2024-07-05T07:07:31.471Z"
   },
   {
    "duration": 12,
    "start_time": "2024-07-05T07:07:35.959Z"
   },
   {
    "duration": 13,
    "start_time": "2024-07-05T07:07:41.996Z"
   },
   {
    "duration": 8,
    "start_time": "2024-07-05T07:10:25.858Z"
   },
   {
    "duration": 1336,
    "start_time": "2024-07-05T07:10:26.620Z"
   },
   {
    "duration": 11,
    "start_time": "2024-07-05T07:13:00.196Z"
   },
   {
    "duration": 17,
    "start_time": "2024-07-05T07:13:01.748Z"
   },
   {
    "duration": 7,
    "start_time": "2024-07-05T07:13:26.596Z"
   },
   {
    "duration": 19,
    "start_time": "2024-07-05T07:13:27.223Z"
   },
   {
    "duration": 8,
    "start_time": "2024-07-05T07:14:34.384Z"
   },
   {
    "duration": 1262,
    "start_time": "2024-07-05T07:14:35.121Z"
   },
   {
    "duration": 10,
    "start_time": "2024-07-05T07:15:30.169Z"
   },
   {
    "duration": 1309,
    "start_time": "2024-07-05T07:15:31.135Z"
   },
   {
    "duration": 10,
    "start_time": "2024-07-05T07:15:37.136Z"
   },
   {
    "duration": 1272,
    "start_time": "2024-07-05T07:15:37.933Z"
   },
   {
    "duration": 1347,
    "start_time": "2024-07-05T07:15:41.646Z"
   },
   {
    "duration": 1251,
    "start_time": "2024-07-05T07:15:46.475Z"
   },
   {
    "duration": 6,
    "start_time": "2024-07-05T07:18:26.733Z"
   },
   {
    "duration": 6,
    "start_time": "2024-07-05T07:18:27.983Z"
   },
   {
    "duration": 7,
    "start_time": "2024-07-05T07:18:30.608Z"
   },
   {
    "duration": 1344,
    "start_time": "2024-07-05T07:18:32.135Z"
   },
   {
    "duration": 11,
    "start_time": "2024-07-05T07:21:24.983Z"
   },
   {
    "duration": 5,
    "start_time": "2024-07-05T07:21:51.571Z"
   },
   {
    "duration": 11,
    "start_time": "2024-07-05T07:21:52.032Z"
   },
   {
    "duration": 4,
    "start_time": "2024-07-05T07:22:58.007Z"
   },
   {
    "duration": 22,
    "start_time": "2024-07-05T07:23:14.957Z"
   },
   {
    "duration": 4,
    "start_time": "2024-07-05T07:24:11.633Z"
   },
   {
    "duration": 12,
    "start_time": "2024-07-05T07:24:12.185Z"
   },
   {
    "duration": 5,
    "start_time": "2024-07-05T07:24:22.158Z"
   },
   {
    "duration": 11,
    "start_time": "2024-07-05T07:24:22.532Z"
   },
   {
    "duration": 3,
    "start_time": "2024-07-05T07:24:45.183Z"
   },
   {
    "duration": 20,
    "start_time": "2024-07-05T07:24:45.545Z"
   },
   {
    "duration": 4,
    "start_time": "2024-07-05T07:24:54.007Z"
   },
   {
    "duration": 29,
    "start_time": "2024-07-05T07:24:54.546Z"
   },
   {
    "duration": 6,
    "start_time": "2024-07-05T07:27:27.433Z"
   },
   {
    "duration": 12,
    "start_time": "2024-07-05T07:27:28.057Z"
   },
   {
    "duration": 7,
    "start_time": "2024-07-05T07:27:37.657Z"
   },
   {
    "duration": 10,
    "start_time": "2024-07-05T07:27:37.994Z"
   },
   {
    "duration": 4,
    "start_time": "2024-07-05T07:36:09.956Z"
   },
   {
    "duration": 20,
    "start_time": "2024-07-05T07:36:11.556Z"
   },
   {
    "duration": 10,
    "start_time": "2024-07-05T07:36:46.869Z"
   },
   {
    "duration": 11,
    "start_time": "2024-07-05T07:37:32.131Z"
   },
   {
    "duration": 29,
    "start_time": "2024-07-05T07:37:34.746Z"
   },
   {
    "duration": 7,
    "start_time": "2024-07-05T07:37:45.656Z"
   },
   {
    "duration": 2955,
    "start_time": "2024-07-05T07:37:46.443Z"
   },
   {
    "duration": 3,
    "start_time": "2024-07-05T09:22:24.087Z"
   },
   {
    "duration": 4,
    "start_time": "2024-07-05T09:22:47.749Z"
   },
   {
    "duration": 8,
    "start_time": "2024-07-05T09:24:06.037Z"
   },
   {
    "duration": 4,
    "start_time": "2024-07-05T09:24:10.111Z"
   },
   {
    "duration": 6,
    "start_time": "2024-07-05T09:24:13.286Z"
   },
   {
    "duration": 1252,
    "start_time": "2024-07-05T09:24:16.063Z"
   },
   {
    "duration": 1272,
    "start_time": "2024-07-05T09:24:20.161Z"
   },
   {
    "duration": 1275,
    "start_time": "2024-07-05T09:24:23.423Z"
   },
   {
    "duration": 10,
    "start_time": "2024-07-05T09:32:47.998Z"
   },
   {
    "duration": 112,
    "start_time": "2024-07-05T09:32:48.836Z"
   },
   {
    "duration": 108,
    "start_time": "2024-07-05T09:32:52.535Z"
   }
  ],
  "colab": {
   "provenance": [],
   "toc_visible": true
  },
  "kernelspec": {
   "display_name": "Python 3",
   "language": "python",
   "name": "python3"
  },
  "language_info": {
   "codemirror_mode": {
    "name": "ipython",
    "version": 3
   },
   "file_extension": ".py",
   "mimetype": "text/x-python",
   "name": "python",
   "nbconvert_exporter": "python",
   "pygments_lexer": "ipython3",
   "version": "3.9.11"
  },
  "toc": {
   "base_numbering": 1,
   "nav_menu": {},
   "number_sections": true,
   "sideBar": true,
   "skip_h1_title": true,
   "title_cell": "Table of Contents",
   "title_sidebar": "Contents",
   "toc_cell": false,
   "toc_position": {},
   "toc_section_display": true,
   "toc_window_display": false
  },
  "widgets": {
   "application/vnd.jupyter.widget-state+json": {
    "02d3d22ea8e8403f86840fc73fbcd977": {
     "model_module": "@jupyter-widgets/controls",
     "model_module_version": "1.5.0",
     "model_name": "DescriptionStyleModel",
     "state": {
      "_model_module": "@jupyter-widgets/controls",
      "_model_module_version": "1.5.0",
      "_model_name": "DescriptionStyleModel",
      "_view_count": null,
      "_view_module": "@jupyter-widgets/base",
      "_view_module_version": "1.2.0",
      "_view_name": "StyleView",
      "description_width": ""
     }
    },
    "0e03d24b4eda420b95aafa4c92a2e387": {
     "model_module": "@jupyter-widgets/controls",
     "model_module_version": "1.5.0",
     "model_name": "ProgressStyleModel",
     "state": {
      "_model_module": "@jupyter-widgets/controls",
      "_model_module_version": "1.5.0",
      "_model_name": "ProgressStyleModel",
      "_view_count": null,
      "_view_module": "@jupyter-widgets/base",
      "_view_module_version": "1.2.0",
      "_view_name": "StyleView",
      "bar_color": null,
      "description_width": ""
     }
    },
    "0e8efccb86b248fe919ba06b756372d9": {
     "model_module": "@jupyter-widgets/controls",
     "model_module_version": "1.5.0",
     "model_name": "DescriptionStyleModel",
     "state": {
      "_model_module": "@jupyter-widgets/controls",
      "_model_module_version": "1.5.0",
      "_model_name": "DescriptionStyleModel",
      "_view_count": null,
      "_view_module": "@jupyter-widgets/base",
      "_view_module_version": "1.2.0",
      "_view_name": "StyleView",
      "description_width": ""
     }
    },
    "15a853406f88447599bd835c176acd0d": {
     "model_module": "@jupyter-widgets/controls",
     "model_module_version": "1.5.0",
     "model_name": "HTMLModel",
     "state": {
      "_dom_classes": [],
      "_model_module": "@jupyter-widgets/controls",
      "_model_module_version": "1.5.0",
      "_model_name": "HTMLModel",
      "_view_count": null,
      "_view_module": "@jupyter-widgets/controls",
      "_view_module_version": "1.5.0",
      "_view_name": "HTMLView",
      "description": "",
      "description_tooltip": null,
      "layout": "IPY_MODEL_f593febcdc5a4331812cc841471b373e",
      "placeholder": "​",
      "style": "IPY_MODEL_0e8efccb86b248fe919ba06b756372d9",
      "value": " 1000/1000 [00:07&lt;00:00, 238.13it/s]"
     }
    },
    "178b81ae462e49b6bba1570f2317badd": {
     "model_module": "@jupyter-widgets/controls",
     "model_module_version": "1.5.0",
     "model_name": "HTMLModel",
     "state": {
      "_dom_classes": [],
      "_model_module": "@jupyter-widgets/controls",
      "_model_module_version": "1.5.0",
      "_model_name": "HTMLModel",
      "_view_count": null,
      "_view_module": "@jupyter-widgets/controls",
      "_view_module_version": "1.5.0",
      "_view_name": "HTMLView",
      "description": "",
      "description_tooltip": null,
      "layout": "IPY_MODEL_a04105d5702845bcbe40dd89598fdc6f",
      "placeholder": "​",
      "style": "IPY_MODEL_02d3d22ea8e8403f86840fc73fbcd977",
      "value": " 1000/1000 [00:01&lt;00:00, 566.47it/s]"
     }
    },
    "1b81e6748fab4654985dcd4250768cd8": {
     "model_module": "@jupyter-widgets/base",
     "model_module_version": "1.2.0",
     "model_name": "LayoutModel",
     "state": {
      "_model_module": "@jupyter-widgets/base",
      "_model_module_version": "1.2.0",
      "_model_name": "LayoutModel",
      "_view_count": null,
      "_view_module": "@jupyter-widgets/base",
      "_view_module_version": "1.2.0",
      "_view_name": "LayoutView",
      "align_content": null,
      "align_items": null,
      "align_self": null,
      "border": null,
      "bottom": null,
      "display": null,
      "flex": null,
      "flex_flow": null,
      "grid_area": null,
      "grid_auto_columns": null,
      "grid_auto_flow": null,
      "grid_auto_rows": null,
      "grid_column": null,
      "grid_gap": null,
      "grid_row": null,
      "grid_template_areas": null,
      "grid_template_columns": null,
      "grid_template_rows": null,
      "height": null,
      "justify_content": null,
      "justify_items": null,
      "left": null,
      "margin": null,
      "max_height": null,
      "max_width": null,
      "min_height": null,
      "min_width": null,
      "object_fit": null,
      "object_position": null,
      "order": null,
      "overflow": null,
      "overflow_x": null,
      "overflow_y": null,
      "padding": null,
      "right": null,
      "top": null,
      "visibility": null,
      "width": null
     }
    },
    "327d54cc76a244d1bb63babde73adb93": {
     "model_module": "@jupyter-widgets/base",
     "model_module_version": "1.2.0",
     "model_name": "LayoutModel",
     "state": {
      "_model_module": "@jupyter-widgets/base",
      "_model_module_version": "1.2.0",
      "_model_name": "LayoutModel",
      "_view_count": null,
      "_view_module": "@jupyter-widgets/base",
      "_view_module_version": "1.2.0",
      "_view_name": "LayoutView",
      "align_content": null,
      "align_items": null,
      "align_self": null,
      "border": null,
      "bottom": null,
      "display": null,
      "flex": null,
      "flex_flow": null,
      "grid_area": null,
      "grid_auto_columns": null,
      "grid_auto_flow": null,
      "grid_auto_rows": null,
      "grid_column": null,
      "grid_gap": null,
      "grid_row": null,
      "grid_template_areas": null,
      "grid_template_columns": null,
      "grid_template_rows": null,
      "height": null,
      "justify_content": null,
      "justify_items": null,
      "left": null,
      "margin": null,
      "max_height": null,
      "max_width": null,
      "min_height": null,
      "min_width": null,
      "object_fit": null,
      "object_position": null,
      "order": null,
      "overflow": null,
      "overflow_x": null,
      "overflow_y": null,
      "padding": null,
      "right": null,
      "top": null,
      "visibility": null,
      "width": null
     }
    },
    "35ac177965f1450b9881e5ce462487ef": {
     "model_module": "@jupyter-widgets/base",
     "model_module_version": "1.2.0",
     "model_name": "LayoutModel",
     "state": {
      "_model_module": "@jupyter-widgets/base",
      "_model_module_version": "1.2.0",
      "_model_name": "LayoutModel",
      "_view_count": null,
      "_view_module": "@jupyter-widgets/base",
      "_view_module_version": "1.2.0",
      "_view_name": "LayoutView",
      "align_content": null,
      "align_items": null,
      "align_self": null,
      "border": null,
      "bottom": null,
      "display": null,
      "flex": null,
      "flex_flow": null,
      "grid_area": null,
      "grid_auto_columns": null,
      "grid_auto_flow": null,
      "grid_auto_rows": null,
      "grid_column": null,
      "grid_gap": null,
      "grid_row": null,
      "grid_template_areas": null,
      "grid_template_columns": null,
      "grid_template_rows": null,
      "height": null,
      "justify_content": null,
      "justify_items": null,
      "left": null,
      "margin": null,
      "max_height": null,
      "max_width": null,
      "min_height": null,
      "min_width": null,
      "object_fit": null,
      "object_position": null,
      "order": null,
      "overflow": null,
      "overflow_x": null,
      "overflow_y": null,
      "padding": null,
      "right": null,
      "top": null,
      "visibility": null,
      "width": null
     }
    },
    "488963f3fed84febb8a54a1083d6783f": {
     "model_module": "@jupyter-widgets/controls",
     "model_module_version": "1.5.0",
     "model_name": "ProgressStyleModel",
     "state": {
      "_model_module": "@jupyter-widgets/controls",
      "_model_module_version": "1.5.0",
      "_model_name": "ProgressStyleModel",
      "_view_count": null,
      "_view_module": "@jupyter-widgets/base",
      "_view_module_version": "1.2.0",
      "_view_name": "StyleView",
      "bar_color": null,
      "description_width": ""
     }
    },
    "4c2c4f1e7ceb4e428ae591c640d95b56": {
     "model_module": "@jupyter-widgets/controls",
     "model_module_version": "1.5.0",
     "model_name": "DescriptionStyleModel",
     "state": {
      "_model_module": "@jupyter-widgets/controls",
      "_model_module_version": "1.5.0",
      "_model_name": "DescriptionStyleModel",
      "_view_count": null,
      "_view_module": "@jupyter-widgets/base",
      "_view_module_version": "1.2.0",
      "_view_name": "StyleView",
      "description_width": ""
     }
    },
    "5bdf87bfd0d04c6db4f479c8c0b10de6": {
     "model_module": "@jupyter-widgets/controls",
     "model_module_version": "1.5.0",
     "model_name": "HTMLModel",
     "state": {
      "_dom_classes": [],
      "_model_module": "@jupyter-widgets/controls",
      "_model_module_version": "1.5.0",
      "_model_name": "HTMLModel",
      "_view_count": null,
      "_view_module": "@jupyter-widgets/controls",
      "_view_module_version": "1.5.0",
      "_view_name": "HTMLView",
      "description": "",
      "description_tooltip": null,
      "layout": "IPY_MODEL_b5a0f23fc28248b5a9f9ac7f6a8d3e91",
      "placeholder": "​",
      "style": "IPY_MODEL_7464b9aa40034ece8849554b65c52852",
      "value": "100%"
     }
    },
    "5bfbe83ee0e94fe080cd4f5fe7a7b851": {
     "model_module": "@jupyter-widgets/controls",
     "model_module_version": "1.5.0",
     "model_name": "FloatProgressModel",
     "state": {
      "_dom_classes": [],
      "_model_module": "@jupyter-widgets/controls",
      "_model_module_version": "1.5.0",
      "_model_name": "FloatProgressModel",
      "_view_count": null,
      "_view_module": "@jupyter-widgets/controls",
      "_view_module_version": "1.5.0",
      "_view_name": "ProgressView",
      "bar_style": "success",
      "description": "",
      "description_tooltip": null,
      "layout": "IPY_MODEL_d0dbc5437b4841f3b5c36fdfd9b91461",
      "max": 1000,
      "min": 0,
      "orientation": "horizontal",
      "style": "IPY_MODEL_9b67a1fbe36941eaa4b71a5d6c015c6a",
      "value": 1000
     }
    },
    "622f550673794eaaa58824538af851dd": {
     "model_module": "@jupyter-widgets/base",
     "model_module_version": "1.2.0",
     "model_name": "LayoutModel",
     "state": {
      "_model_module": "@jupyter-widgets/base",
      "_model_module_version": "1.2.0",
      "_model_name": "LayoutModel",
      "_view_count": null,
      "_view_module": "@jupyter-widgets/base",
      "_view_module_version": "1.2.0",
      "_view_name": "LayoutView",
      "align_content": null,
      "align_items": null,
      "align_self": null,
      "border": null,
      "bottom": null,
      "display": null,
      "flex": null,
      "flex_flow": null,
      "grid_area": null,
      "grid_auto_columns": null,
      "grid_auto_flow": null,
      "grid_auto_rows": null,
      "grid_column": null,
      "grid_gap": null,
      "grid_row": null,
      "grid_template_areas": null,
      "grid_template_columns": null,
      "grid_template_rows": null,
      "height": null,
      "justify_content": null,
      "justify_items": null,
      "left": null,
      "margin": null,
      "max_height": null,
      "max_width": null,
      "min_height": null,
      "min_width": null,
      "object_fit": null,
      "object_position": null,
      "order": null,
      "overflow": null,
      "overflow_x": null,
      "overflow_y": null,
      "padding": null,
      "right": null,
      "top": null,
      "visibility": null,
      "width": null
     }
    },
    "625bbe95241f4dea9679c12448fcbd23": {
     "model_module": "@jupyter-widgets/controls",
     "model_module_version": "1.5.0",
     "model_name": "HTMLModel",
     "state": {
      "_dom_classes": [],
      "_model_module": "@jupyter-widgets/controls",
      "_model_module_version": "1.5.0",
      "_model_name": "HTMLModel",
      "_view_count": null,
      "_view_module": "@jupyter-widgets/controls",
      "_view_module_version": "1.5.0",
      "_view_name": "HTMLView",
      "description": "",
      "description_tooltip": null,
      "layout": "IPY_MODEL_f448db41a4ae42f395923ed207b8464d",
      "placeholder": "​",
      "style": "IPY_MODEL_897bf588f4f74b8cb47213bd5986a585",
      "value": "100%"
     }
    },
    "6edecbc7b1564338a39a27a91000e774": {
     "model_module": "@jupyter-widgets/controls",
     "model_module_version": "1.5.0",
     "model_name": "HTMLModel",
     "state": {
      "_dom_classes": [],
      "_model_module": "@jupyter-widgets/controls",
      "_model_module_version": "1.5.0",
      "_model_name": "HTMLModel",
      "_view_count": null,
      "_view_module": "@jupyter-widgets/controls",
      "_view_module_version": "1.5.0",
      "_view_name": "HTMLView",
      "description": "",
      "description_tooltip": null,
      "layout": "IPY_MODEL_cb1d0da3ae314fdb89bf5846ef5cb278",
      "placeholder": "​",
      "style": "IPY_MODEL_4c2c4f1e7ceb4e428ae591c640d95b56",
      "value": "100%"
     }
    },
    "7464b9aa40034ece8849554b65c52852": {
     "model_module": "@jupyter-widgets/controls",
     "model_module_version": "1.5.0",
     "model_name": "DescriptionStyleModel",
     "state": {
      "_model_module": "@jupyter-widgets/controls",
      "_model_module_version": "1.5.0",
      "_model_name": "DescriptionStyleModel",
      "_view_count": null,
      "_view_module": "@jupyter-widgets/base",
      "_view_module_version": "1.2.0",
      "_view_name": "StyleView",
      "description_width": ""
     }
    },
    "7dd959237e224210b9dff369f02bf154": {
     "model_module": "@jupyter-widgets/base",
     "model_module_version": "1.2.0",
     "model_name": "LayoutModel",
     "state": {
      "_model_module": "@jupyter-widgets/base",
      "_model_module_version": "1.2.0",
      "_model_name": "LayoutModel",
      "_view_count": null,
      "_view_module": "@jupyter-widgets/base",
      "_view_module_version": "1.2.0",
      "_view_name": "LayoutView",
      "align_content": null,
      "align_items": null,
      "align_self": null,
      "border": null,
      "bottom": null,
      "display": null,
      "flex": null,
      "flex_flow": null,
      "grid_area": null,
      "grid_auto_columns": null,
      "grid_auto_flow": null,
      "grid_auto_rows": null,
      "grid_column": null,
      "grid_gap": null,
      "grid_row": null,
      "grid_template_areas": null,
      "grid_template_columns": null,
      "grid_template_rows": null,
      "height": null,
      "justify_content": null,
      "justify_items": null,
      "left": null,
      "margin": null,
      "max_height": null,
      "max_width": null,
      "min_height": null,
      "min_width": null,
      "object_fit": null,
      "object_position": null,
      "order": null,
      "overflow": null,
      "overflow_x": null,
      "overflow_y": null,
      "padding": null,
      "right": null,
      "top": null,
      "visibility": null,
      "width": null
     }
    },
    "897bf588f4f74b8cb47213bd5986a585": {
     "model_module": "@jupyter-widgets/controls",
     "model_module_version": "1.5.0",
     "model_name": "DescriptionStyleModel",
     "state": {
      "_model_module": "@jupyter-widgets/controls",
      "_model_module_version": "1.5.0",
      "_model_name": "DescriptionStyleModel",
      "_view_count": null,
      "_view_module": "@jupyter-widgets/base",
      "_view_module_version": "1.2.0",
      "_view_name": "StyleView",
      "description_width": ""
     }
    },
    "8c7ec24c0ef440d9bb886383de67a61d": {
     "model_module": "@jupyter-widgets/controls",
     "model_module_version": "1.5.0",
     "model_name": "HTMLModel",
     "state": {
      "_dom_classes": [],
      "_model_module": "@jupyter-widgets/controls",
      "_model_module_version": "1.5.0",
      "_model_name": "HTMLModel",
      "_view_count": null,
      "_view_module": "@jupyter-widgets/controls",
      "_view_module_version": "1.5.0",
      "_view_name": "HTMLView",
      "description": "",
      "description_tooltip": null,
      "layout": "IPY_MODEL_622f550673794eaaa58824538af851dd",
      "placeholder": "​",
      "style": "IPY_MODEL_ebf28a43e8ed447ca3dcdb2183963b0d",
      "value": " 1000/1000 [00:04&lt;00:00, 298.32it/s]"
     }
    },
    "9b67a1fbe36941eaa4b71a5d6c015c6a": {
     "model_module": "@jupyter-widgets/controls",
     "model_module_version": "1.5.0",
     "model_name": "ProgressStyleModel",
     "state": {
      "_model_module": "@jupyter-widgets/controls",
      "_model_module_version": "1.5.0",
      "_model_name": "ProgressStyleModel",
      "_view_count": null,
      "_view_module": "@jupyter-widgets/base",
      "_view_module_version": "1.2.0",
      "_view_name": "StyleView",
      "bar_color": null,
      "description_width": ""
     }
    },
    "a04105d5702845bcbe40dd89598fdc6f": {
     "model_module": "@jupyter-widgets/base",
     "model_module_version": "1.2.0",
     "model_name": "LayoutModel",
     "state": {
      "_model_module": "@jupyter-widgets/base",
      "_model_module_version": "1.2.0",
      "_model_name": "LayoutModel",
      "_view_count": null,
      "_view_module": "@jupyter-widgets/base",
      "_view_module_version": "1.2.0",
      "_view_name": "LayoutView",
      "align_content": null,
      "align_items": null,
      "align_self": null,
      "border": null,
      "bottom": null,
      "display": null,
      "flex": null,
      "flex_flow": null,
      "grid_area": null,
      "grid_auto_columns": null,
      "grid_auto_flow": null,
      "grid_auto_rows": null,
      "grid_column": null,
      "grid_gap": null,
      "grid_row": null,
      "grid_template_areas": null,
      "grid_template_columns": null,
      "grid_template_rows": null,
      "height": null,
      "justify_content": null,
      "justify_items": null,
      "left": null,
      "margin": null,
      "max_height": null,
      "max_width": null,
      "min_height": null,
      "min_width": null,
      "object_fit": null,
      "object_position": null,
      "order": null,
      "overflow": null,
      "overflow_x": null,
      "overflow_y": null,
      "padding": null,
      "right": null,
      "top": null,
      "visibility": null,
      "width": null
     }
    },
    "a953cc9c08484a5796212c27893fcc08": {
     "model_module": "@jupyter-widgets/controls",
     "model_module_version": "1.5.0",
     "model_name": "HBoxModel",
     "state": {
      "_dom_classes": [],
      "_model_module": "@jupyter-widgets/controls",
      "_model_module_version": "1.5.0",
      "_model_name": "HBoxModel",
      "_view_count": null,
      "_view_module": "@jupyter-widgets/controls",
      "_view_module_version": "1.5.0",
      "_view_name": "HBoxView",
      "box_style": "",
      "children": [
       "IPY_MODEL_6edecbc7b1564338a39a27a91000e774",
       "IPY_MODEL_5bfbe83ee0e94fe080cd4f5fe7a7b851",
       "IPY_MODEL_8c7ec24c0ef440d9bb886383de67a61d"
      ],
      "layout": "IPY_MODEL_7dd959237e224210b9dff369f02bf154"
     }
    },
    "b1c2969a3d9f4e679f204cf837816453": {
     "model_module": "@jupyter-widgets/controls",
     "model_module_version": "1.5.0",
     "model_name": "FloatProgressModel",
     "state": {
      "_dom_classes": [],
      "_model_module": "@jupyter-widgets/controls",
      "_model_module_version": "1.5.0",
      "_model_name": "FloatProgressModel",
      "_view_count": null,
      "_view_module": "@jupyter-widgets/controls",
      "_view_module_version": "1.5.0",
      "_view_name": "ProgressView",
      "bar_style": "success",
      "description": "",
      "description_tooltip": null,
      "layout": "IPY_MODEL_1b81e6748fab4654985dcd4250768cd8",
      "max": 1000,
      "min": 0,
      "orientation": "horizontal",
      "style": "IPY_MODEL_488963f3fed84febb8a54a1083d6783f",
      "value": 1000
     }
    },
    "b246b59ebb1147378665b9e81ef4b3a3": {
     "model_module": "@jupyter-widgets/controls",
     "model_module_version": "1.5.0",
     "model_name": "FloatProgressModel",
     "state": {
      "_dom_classes": [],
      "_model_module": "@jupyter-widgets/controls",
      "_model_module_version": "1.5.0",
      "_model_name": "FloatProgressModel",
      "_view_count": null,
      "_view_module": "@jupyter-widgets/controls",
      "_view_module_version": "1.5.0",
      "_view_name": "ProgressView",
      "bar_style": "success",
      "description": "",
      "description_tooltip": null,
      "layout": "IPY_MODEL_327d54cc76a244d1bb63babde73adb93",
      "max": 1000,
      "min": 0,
      "orientation": "horizontal",
      "style": "IPY_MODEL_0e03d24b4eda420b95aafa4c92a2e387",
      "value": 1000
     }
    },
    "b5a0f23fc28248b5a9f9ac7f6a8d3e91": {
     "model_module": "@jupyter-widgets/base",
     "model_module_version": "1.2.0",
     "model_name": "LayoutModel",
     "state": {
      "_model_module": "@jupyter-widgets/base",
      "_model_module_version": "1.2.0",
      "_model_name": "LayoutModel",
      "_view_count": null,
      "_view_module": "@jupyter-widgets/base",
      "_view_module_version": "1.2.0",
      "_view_name": "LayoutView",
      "align_content": null,
      "align_items": null,
      "align_self": null,
      "border": null,
      "bottom": null,
      "display": null,
      "flex": null,
      "flex_flow": null,
      "grid_area": null,
      "grid_auto_columns": null,
      "grid_auto_flow": null,
      "grid_auto_rows": null,
      "grid_column": null,
      "grid_gap": null,
      "grid_row": null,
      "grid_template_areas": null,
      "grid_template_columns": null,
      "grid_template_rows": null,
      "height": null,
      "justify_content": null,
      "justify_items": null,
      "left": null,
      "margin": null,
      "max_height": null,
      "max_width": null,
      "min_height": null,
      "min_width": null,
      "object_fit": null,
      "object_position": null,
      "order": null,
      "overflow": null,
      "overflow_x": null,
      "overflow_y": null,
      "padding": null,
      "right": null,
      "top": null,
      "visibility": null,
      "width": null
     }
    },
    "cb1d0da3ae314fdb89bf5846ef5cb278": {
     "model_module": "@jupyter-widgets/base",
     "model_module_version": "1.2.0",
     "model_name": "LayoutModel",
     "state": {
      "_model_module": "@jupyter-widgets/base",
      "_model_module_version": "1.2.0",
      "_model_name": "LayoutModel",
      "_view_count": null,
      "_view_module": "@jupyter-widgets/base",
      "_view_module_version": "1.2.0",
      "_view_name": "LayoutView",
      "align_content": null,
      "align_items": null,
      "align_self": null,
      "border": null,
      "bottom": null,
      "display": null,
      "flex": null,
      "flex_flow": null,
      "grid_area": null,
      "grid_auto_columns": null,
      "grid_auto_flow": null,
      "grid_auto_rows": null,
      "grid_column": null,
      "grid_gap": null,
      "grid_row": null,
      "grid_template_areas": null,
      "grid_template_columns": null,
      "grid_template_rows": null,
      "height": null,
      "justify_content": null,
      "justify_items": null,
      "left": null,
      "margin": null,
      "max_height": null,
      "max_width": null,
      "min_height": null,
      "min_width": null,
      "object_fit": null,
      "object_position": null,
      "order": null,
      "overflow": null,
      "overflow_x": null,
      "overflow_y": null,
      "padding": null,
      "right": null,
      "top": null,
      "visibility": null,
      "width": null
     }
    },
    "d0dbc5437b4841f3b5c36fdfd9b91461": {
     "model_module": "@jupyter-widgets/base",
     "model_module_version": "1.2.0",
     "model_name": "LayoutModel",
     "state": {
      "_model_module": "@jupyter-widgets/base",
      "_model_module_version": "1.2.0",
      "_model_name": "LayoutModel",
      "_view_count": null,
      "_view_module": "@jupyter-widgets/base",
      "_view_module_version": "1.2.0",
      "_view_name": "LayoutView",
      "align_content": null,
      "align_items": null,
      "align_self": null,
      "border": null,
      "bottom": null,
      "display": null,
      "flex": null,
      "flex_flow": null,
      "grid_area": null,
      "grid_auto_columns": null,
      "grid_auto_flow": null,
      "grid_auto_rows": null,
      "grid_column": null,
      "grid_gap": null,
      "grid_row": null,
      "grid_template_areas": null,
      "grid_template_columns": null,
      "grid_template_rows": null,
      "height": null,
      "justify_content": null,
      "justify_items": null,
      "left": null,
      "margin": null,
      "max_height": null,
      "max_width": null,
      "min_height": null,
      "min_width": null,
      "object_fit": null,
      "object_position": null,
      "order": null,
      "overflow": null,
      "overflow_x": null,
      "overflow_y": null,
      "padding": null,
      "right": null,
      "top": null,
      "visibility": null,
      "width": null
     }
    },
    "ebf28a43e8ed447ca3dcdb2183963b0d": {
     "model_module": "@jupyter-widgets/controls",
     "model_module_version": "1.5.0",
     "model_name": "DescriptionStyleModel",
     "state": {
      "_model_module": "@jupyter-widgets/controls",
      "_model_module_version": "1.5.0",
      "_model_name": "DescriptionStyleModel",
      "_view_count": null,
      "_view_module": "@jupyter-widgets/base",
      "_view_module_version": "1.2.0",
      "_view_name": "StyleView",
      "description_width": ""
     }
    },
    "f2ef5d875c9f4356a3e7a93cd2c7a17e": {
     "model_module": "@jupyter-widgets/base",
     "model_module_version": "1.2.0",
     "model_name": "LayoutModel",
     "state": {
      "_model_module": "@jupyter-widgets/base",
      "_model_module_version": "1.2.0",
      "_model_name": "LayoutModel",
      "_view_count": null,
      "_view_module": "@jupyter-widgets/base",
      "_view_module_version": "1.2.0",
      "_view_name": "LayoutView",
      "align_content": null,
      "align_items": null,
      "align_self": null,
      "border": null,
      "bottom": null,
      "display": null,
      "flex": null,
      "flex_flow": null,
      "grid_area": null,
      "grid_auto_columns": null,
      "grid_auto_flow": null,
      "grid_auto_rows": null,
      "grid_column": null,
      "grid_gap": null,
      "grid_row": null,
      "grid_template_areas": null,
      "grid_template_columns": null,
      "grid_template_rows": null,
      "height": null,
      "justify_content": null,
      "justify_items": null,
      "left": null,
      "margin": null,
      "max_height": null,
      "max_width": null,
      "min_height": null,
      "min_width": null,
      "object_fit": null,
      "object_position": null,
      "order": null,
      "overflow": null,
      "overflow_x": null,
      "overflow_y": null,
      "padding": null,
      "right": null,
      "top": null,
      "visibility": null,
      "width": null
     }
    },
    "f448db41a4ae42f395923ed207b8464d": {
     "model_module": "@jupyter-widgets/base",
     "model_module_version": "1.2.0",
     "model_name": "LayoutModel",
     "state": {
      "_model_module": "@jupyter-widgets/base",
      "_model_module_version": "1.2.0",
      "_model_name": "LayoutModel",
      "_view_count": null,
      "_view_module": "@jupyter-widgets/base",
      "_view_module_version": "1.2.0",
      "_view_name": "LayoutView",
      "align_content": null,
      "align_items": null,
      "align_self": null,
      "border": null,
      "bottom": null,
      "display": null,
      "flex": null,
      "flex_flow": null,
      "grid_area": null,
      "grid_auto_columns": null,
      "grid_auto_flow": null,
      "grid_auto_rows": null,
      "grid_column": null,
      "grid_gap": null,
      "grid_row": null,
      "grid_template_areas": null,
      "grid_template_columns": null,
      "grid_template_rows": null,
      "height": null,
      "justify_content": null,
      "justify_items": null,
      "left": null,
      "margin": null,
      "max_height": null,
      "max_width": null,
      "min_height": null,
      "min_width": null,
      "object_fit": null,
      "object_position": null,
      "order": null,
      "overflow": null,
      "overflow_x": null,
      "overflow_y": null,
      "padding": null,
      "right": null,
      "top": null,
      "visibility": null,
      "width": null
     }
    },
    "f593febcdc5a4331812cc841471b373e": {
     "model_module": "@jupyter-widgets/base",
     "model_module_version": "1.2.0",
     "model_name": "LayoutModel",
     "state": {
      "_model_module": "@jupyter-widgets/base",
      "_model_module_version": "1.2.0",
      "_model_name": "LayoutModel",
      "_view_count": null,
      "_view_module": "@jupyter-widgets/base",
      "_view_module_version": "1.2.0",
      "_view_name": "LayoutView",
      "align_content": null,
      "align_items": null,
      "align_self": null,
      "border": null,
      "bottom": null,
      "display": null,
      "flex": null,
      "flex_flow": null,
      "grid_area": null,
      "grid_auto_columns": null,
      "grid_auto_flow": null,
      "grid_auto_rows": null,
      "grid_column": null,
      "grid_gap": null,
      "grid_row": null,
      "grid_template_areas": null,
      "grid_template_columns": null,
      "grid_template_rows": null,
      "height": null,
      "justify_content": null,
      "justify_items": null,
      "left": null,
      "margin": null,
      "max_height": null,
      "max_width": null,
      "min_height": null,
      "min_width": null,
      "object_fit": null,
      "object_position": null,
      "order": null,
      "overflow": null,
      "overflow_x": null,
      "overflow_y": null,
      "padding": null,
      "right": null,
      "top": null,
      "visibility": null,
      "width": null
     }
    },
    "fbfe59a25c4d4080870d2bce51461c81": {
     "model_module": "@jupyter-widgets/controls",
     "model_module_version": "1.5.0",
     "model_name": "HBoxModel",
     "state": {
      "_dom_classes": [],
      "_model_module": "@jupyter-widgets/controls",
      "_model_module_version": "1.5.0",
      "_model_name": "HBoxModel",
      "_view_count": null,
      "_view_module": "@jupyter-widgets/controls",
      "_view_module_version": "1.5.0",
      "_view_name": "HBoxView",
      "box_style": "",
      "children": [
       "IPY_MODEL_5bdf87bfd0d04c6db4f479c8c0b10de6",
       "IPY_MODEL_b246b59ebb1147378665b9e81ef4b3a3",
       "IPY_MODEL_15a853406f88447599bd835c176acd0d"
      ],
      "layout": "IPY_MODEL_f2ef5d875c9f4356a3e7a93cd2c7a17e"
     }
    },
    "fd88fdf567a9429b8784dbad143eed42": {
     "model_module": "@jupyter-widgets/controls",
     "model_module_version": "1.5.0",
     "model_name": "HBoxModel",
     "state": {
      "_dom_classes": [],
      "_model_module": "@jupyter-widgets/controls",
      "_model_module_version": "1.5.0",
      "_model_name": "HBoxModel",
      "_view_count": null,
      "_view_module": "@jupyter-widgets/controls",
      "_view_module_version": "1.5.0",
      "_view_name": "HBoxView",
      "box_style": "",
      "children": [
       "IPY_MODEL_625bbe95241f4dea9679c12448fcbd23",
       "IPY_MODEL_b1c2969a3d9f4e679f204cf837816453",
       "IPY_MODEL_178b81ae462e49b6bba1570f2317badd"
      ],
      "layout": "IPY_MODEL_35ac177965f1450b9881e5ce462487ef"
     }
    }
   }
  }
 },
 "nbformat": 4,
 "nbformat_minor": 1
}
